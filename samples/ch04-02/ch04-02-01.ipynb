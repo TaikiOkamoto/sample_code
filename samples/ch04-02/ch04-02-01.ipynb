{
 "cells": [
  {
   "cell_type": "markdown",
   "metadata": {},
   "source": [
    "## 4.2 NLU(Natural Language Understanding)"
   ]
  },
  {
   "cell_type": "code",
   "execution_count": null,
   "metadata": {},
   "outputs": [],
   "source": [
    "# 必要ライブラリの導入\n",
    "!pip install -U ibm_watson | tail -n 1"
   ]
  },
  {
   "cell_type": "code",
   "execution_count": null,
   "metadata": {},
   "outputs": [],
   "source": [
    "# リスト4.2.1 NLU呼び出し用インスタンス生成\n",
    "\n",
    "# NLUの資格情報 2つの値は巻末付録3の手順で取得したものに置き換えて下さい \n",
    "nlu_credentials = {\n",
    "  \"apikey\": \"xxxx\",\n",
    "  \"url\": \"xxxx\"\n",
    "}\n",
    "\n",
    "# 必要なライブラリのimport\n",
    "import json\n",
    "from ibm_watson import NaturalLanguageUnderstandingV1\n",
    "from ibm_watson.natural_language_understanding_v1 import *\n",
    "from ibm_cloud_sdk_core.authenticators import IAMAuthenticator\n",
    "\n",
    "# API呼び出し用インスタンスの生成\n",
    "authenticator = IAMAuthenticator(nlu_credentials['apikey'])\n",
    "nlu = NaturalLanguageUnderstandingV1(\n",
    "    version='2019-07-12',\n",
    "    authenticator=authenticator\n",
    ")\n",
    "nlu.set_service_url(nlu_credentials['url'])\n"
   ]
  },
  {
   "cell_type": "code",
   "execution_count": null,
   "metadata": {},
   "outputs": [],
   "source": [
    "# リスト 4.2.2 NLU呼び出し用共通関数\n",
    "\n",
    "# text: 対象テキスト\n",
    "# feature: 機能を意味するObject\n",
    "# key: 結果jsonをfilterするためのキー\n",
    "def call_nlu(text, features, key):\n",
    "    response = nlu.analyze(text=text, features=features).get_result()\n",
    "    return response[key]"
   ]
  },
  {
   "cell_type": "code",
   "execution_count": null,
   "metadata": {},
   "outputs": [],
   "source": [
    "# リスト 4.2.3 エンティティ抽出機能の呼び出し\n",
    "\n",
    "# 対象テキスト\n",
    "text = \"安倍首相はトランプ氏と昨日、大阪の国際会議場で会談した。\"\n",
    "\n",
    "# 機能として「エンティティ抽出機能」を利用\n",
    "features=Features(entities=EntitiesOptions())\n",
    "\n",
    "# 共通関数呼び出し\n",
    "ret = call_nlu(text, features, \"entities\")\n",
    "\n",
    "# 結果の表示\n",
    "print(json.dumps(ret, indent=2, ensure_ascii=False))"
   ]
  },
  {
   "cell_type": "code",
   "execution_count": null,
   "metadata": {},
   "outputs": [],
   "source": [
    "# リスト 4.2.4 関係抽出機能の呼び出し\n",
    "\n",
    "# 対象テキスト\n",
    "text = \"このイベントは東京の国立競技場で開催されました。\"\n",
    "\n",
    "# 機能として「関係抽出機能」を利用\n",
    "features=Features(relations=RelationsOptions())\n",
    "\n",
    "# 共通関数呼び出し\n",
    "ret = call_nlu(text, features, \"relations\")\n",
    "\n",
    "# 結果の表示\n",
    "print(json.dumps(ret, indent=2, ensure_ascii=False))"
   ]
  },
  {
   "cell_type": "code",
   "execution_count": null,
   "metadata": {},
   "outputs": [],
   "source": [
    "# リスト 4.2.5 評判分析機能の呼び出し\n",
    "\n",
    "# テキスト1 (いい評判の例)\n",
    "text1 = 'さすがはソニーです。写真の写りもいいですし、音がまた良いです。'\n",
    "\n",
    "# テキスト2 (悪い評判の例)\n",
    "text2 = '利用したかったアプリケーションは、残念ながらバージョン、性能が合わず、利用できませんでした。'\n",
    "\n",
    "\n",
    "# テキスト1を評判分析\n",
    "features=Features(sentiment=SentimentOptions())\n",
    "ret = call_nlu(text1, features, \"sentiment\")\n",
    "print(json.dumps(ret, indent=2, ensure_ascii=False))\n",
    "\n",
    "# テキスト2を評判分析\n",
    "features=Features(sentiment=SentimentOptions())\n",
    "ret = call_nlu(text2, features, \"sentiment\")\n",
    "print(json.dumps(ret, indent=2, ensure_ascii=False))"
   ]
  },
  {
   "cell_type": "code",
   "execution_count": null,
   "metadata": {},
   "outputs": [],
   "source": [
    "# リスト 4.2.6 キーワード抽出機能の呼び出し\n",
    "\n",
    "# 対象テキスト\n",
    "text = \"ながぬま温泉は北海道でも屈指の湯量を誇り、\\\n",
    "加水・加温はせずに100%源泉掛け流しで、\\\n",
    "保温効果が高く湯冷めしにくい塩化物泉であり、\\\n",
    "「熱の湯」とも呼ばれ、保養や療養を目的として多くの方が訪れている。\"\n",
    "\n",
    "\n",
    "# 機能として「キーワード抽出機能」を利用\n",
    "features=Features(keywords=KeywordsOptions(limit=5))\n",
    "\n",
    "# 共通関数呼び出し\n",
    "ret = call_nlu(text, features, \"keywords\")\n",
    "\n",
    "# 結果の表示\n",
    "print(json.dumps(ret, indent=2, ensure_ascii=False))"
   ]
  },
  {
   "cell_type": "code",
   "execution_count": null,
   "metadata": {},
   "outputs": [],
   "source": [
    "# リスト 4.2.7 概念分析機能の呼び出し\n",
    "\n",
    "# 対象テキスト\n",
    "text = \"ながぬま温泉は北海道でも屈指の湯量を誇り、\\\n",
    "加水・加温はせずに100%源泉 掛け流しで、\\\n",
    "保温効果が高く湯冷めしにくい塩化物泉であり、\\\n",
    "「熱の湯」とも呼ば れ、保養や療養を目的として多くの方が訪れている。\"\n",
    "\n",
    "# 機能として「概念分析機能」を利用\n",
    "features=Features(concepts=ConceptsOptions(limit=3))\n",
    "\n",
    "# 共通関数呼び出し\n",
    "ret = call_nlu(text, features, \"concepts\")\n",
    "\n",
    "# 結果の表示\n",
    "print(json.dumps(ret, indent=2, ensure_ascii=False))"
   ]
  },
  {
   "cell_type": "code",
   "execution_count": null,
   "metadata": {},
   "outputs": [],
   "source": [
    "# リスト 4.2.8 カテゴリ分類機能の呼び出し\n",
    "\n",
    "# 対象テキスト\n",
    "text = \"自然環境の保護を図るとともに、地域に調和した温泉利用施設を維持整備し、\\\n",
    "豊かさとふれあいのある保養の場とする。\"\n",
    "\n",
    "# 機能として「カテゴリ分類機能」を利用\n",
    "features=Features(categories=CategoriesOptions())\n",
    "\n",
    "# 共通関数呼び出し\n",
    "ret = call_nlu(text, features, \"categories\")\n",
    "\n",
    "# 結果の表示\n",
    "print(json.dumps(ret, indent=2, ensure_ascii=False))"
   ]
  },
  {
   "cell_type": "code",
   "execution_count": null,
   "metadata": {},
   "outputs": [],
   "source": [
    "# リスト 4.2.9 意味役割分析機能の呼び出し\n",
    "\n",
    "# 対象テキスト\n",
    "text = 'IBMは毎年、多くの特許を取得しています。'\n",
    "\n",
    "# 機能として「意味役割分析機能」を利用\n",
    "features=Features(semantic_roles=SemanticRolesOptions())\n",
    "\n",
    "# 共通関数呼び出し\n",
    "ret = call_nlu(text, features, \"semantic_roles\")\n",
    "\n",
    "# 結果の表示\n",
    "print(json.dumps(ret, indent=2, ensure_ascii=False))"
   ]
  },
  {
   "cell_type": "code",
   "execution_count": null,
   "metadata": {},
   "outputs": [],
   "source": []
  }
 ],
 "metadata": {
  "kernelspec": {
   "display_name": "Python 3",
   "language": "python",
   "name": "python3"
  },
  "language_info": {
   "codemirror_mode": {
    "name": "ipython",
    "version": 3
   },
   "file_extension": ".py",
   "mimetype": "text/x-python",
   "name": "python",
   "nbconvert_exporter": "python",
   "pygments_lexer": "ipython3",
   "version": "3.7.3"
  }
 },
 "nbformat": 4,
 "nbformat_minor": 2
}
