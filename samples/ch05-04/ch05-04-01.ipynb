{
 "cells": [
  {
   "cell_type": "markdown",
   "metadata": {},
   "source": [
    "### 5.4.2 fastText"
   ]
  },
  {
   "cell_type": "markdown",
   "metadata": {},
   "source": [
    "#### 前提\n",
    "\n",
    "次のライブラリがpipコマンドで導入済みであること\n",
    "\n",
    "```\n",
    "pip install gensim\n",
    "```\n",
    "\n",
    "次のファイルがカレントディレクトリにあること\n",
    "\n",
    "```\n",
    "model.vec\n",
    "```"
   ]
  },
  {
   "cell_type": "code",
   "execution_count": null,
   "metadata": {},
   "outputs": [],
   "source": [
    "# リスト 5.4.1 事前学習済みfastText利用サンプル\n",
    "\n",
    "# モデルファイルのロード\n",
    "import gensim\n",
    "model = gensim.models.KeyedVectors.load_word2vec_format('model.vec', binary=False)\n",
    "print(model)\n",
    "\n",
    "# 「世間」の特徴量ベクトルを調べる\n",
    "print('「世間」の特徴量ベクトル')\n",
    "print(model['世間'])\n",
    "\n",
    "# 「世間」の類似語を調べる\n",
    "print()\n",
    "print('「世間」の類似語')\n",
    "for item, value in model.most_similar(\"世間\"):\n",
    "    print(item, value)\n",
    "    \n",
    "# 「日本」->「東京」から「フランス」->「X」を求める\n",
    "model.most_similar(positive=['東京', 'フランス'], negative=['日本'])"
   ]
  },
  {
   "cell_type": "code",
   "execution_count": null,
   "metadata": {},
   "outputs": [],
   "source": []
  }
 ],
 "metadata": {
  "kernelspec": {
   "display_name": "Python 3",
   "language": "python",
   "name": "python3"
  },
  "language_info": {
   "codemirror_mode": {
    "name": "ipython",
    "version": 3
   },
   "file_extension": ".py",
   "mimetype": "text/x-python",
   "name": "python",
   "nbconvert_exporter": "python",
   "pygments_lexer": "ipython3",
   "version": "3.7.3"
  }
 },
 "nbformat": 4,
 "nbformat_minor": 2
}
