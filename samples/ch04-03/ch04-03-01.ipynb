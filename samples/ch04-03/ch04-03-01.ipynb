{
 "cells": [
  {
   "cell_type": "markdown",
   "metadata": {},
   "source": [
    "# 4.3 Knowledge Studio"
   ]
  },
  {
   "cell_type": "code",
   "execution_count": null,
   "metadata": {},
   "outputs": [],
   "source": [
    "# 必要ライブラリの導入\n",
    "!pip install -U ibm_watson | tail -n 1"
   ]
  },
  {
   "cell_type": "code",
   "execution_count": null,
   "metadata": {},
   "outputs": [],
   "source": [
    "# リスト 4.3.3 NLU呼出し用インスタンス生成\n",
    "# NLUの資格情報 2つの値は巻末付録3の手順で取得したものに置き換えて下さい \n",
    "nlu_credentials = {\n",
    "  \"apikey\": \"xxxx\",\n",
    "  \"url\": \"xxxx\"\n",
    "}\n",
    "\n",
    "# 必要なライブラリのimport\n",
    "import json\n",
    "from ibm_watson import NaturalLanguageUnderstandingV1\n",
    "from ibm_watson.natural_language_understanding_v1 import *\n",
    "from ibm_cloud_sdk_core.authenticators import IAMAuthenticator\n",
    "\n",
    "# API呼出し用インスタンスの生成\n",
    "authenticator = IAMAuthenticator(nlu_credentials['apikey'])\n",
    "nlu = NaturalLanguageUnderstandingV1(\n",
    "    version='2019-07-12',\n",
    "    authenticator=authenticator\n",
    ")\n",
    "nlu.set_service_url(nlu_credentials['url'])\n"
   ]
  },
  {
   "cell_type": "code",
   "execution_count": null,
   "metadata": {},
   "outputs": [],
   "source": [
    "# リスト 4.3.4 NLU呼び出し用共通関数\n",
    "\n",
    "# text: 対象テキスト\n",
    "# feature: 分析機能を意味するObject\n",
    "# key: 分析結果jsonをfilterするためのキー\n",
    "def call_nlu(text, features, key):\n",
    "    response = nlu.analyze(text=text, features=features).get_result()\n",
    "    return response[key]"
   ]
  },
  {
   "cell_type": "code",
   "execution_count": null,
   "metadata": {},
   "outputs": [],
   "source": [
    "# 4.3.5 エンティティ抽出機能の呼び出し\n",
    "\n",
    "# 対象テキスト\n",
    "text = \"大勢の観光客が温泉街を歩く島根県・玉造温泉(カルシウム・ナトリウム－硫酸塩・塩化物泉)は、環境大臣賞受賞。\"\n",
    "\n",
    "# 分析機能として「エンティティ抽出機能」を利用\n",
    "features=Features(entities=EntitiesOptions(model=\"3c256ea1-d24c-433d-8fe2-695b5b4e658a\"))\n",
    "\n",
    "# 共通関数呼び出し\n",
    "ret = call_nlu(text, features, \"entities\")\n",
    "\n",
    "# 結果の表示\n",
    "print(json.dumps(ret, indent=2, ensure_ascii=False))"
   ]
  },
  {
   "cell_type": "code",
   "execution_count": null,
   "metadata": {},
   "outputs": [],
   "source": []
  }
 ],
 "metadata": {
  "kernelspec": {
   "display_name": "Python 3",
   "language": "python",
   "name": "python3"
  },
  "language_info": {
   "codemirror_mode": {
    "name": "ipython",
    "version": 3
   },
   "file_extension": ".py",
   "mimetype": "text/x-python",
   "name": "python",
   "nbconvert_exporter": "python",
   "pygments_lexer": "ipython3",
   "version": "3.7.3"
  }
 },
 "nbformat": 4,
 "nbformat_minor": 2
}
