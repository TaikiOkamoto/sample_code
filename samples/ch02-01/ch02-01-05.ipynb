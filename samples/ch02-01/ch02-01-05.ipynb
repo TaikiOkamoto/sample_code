{
 "cells": [
  {
   "cell_type": "markdown",
   "metadata": {},
   "source": [
    "# 2.1.3 Wikipedia APIの利用"
   ]
  },
  {
   "cell_type": "code",
   "execution_count": null,
   "metadata": {},
   "outputs": [],
   "source": [
    "# リスト 2.1.5\n",
    "# Wikipediaのサマリー文の入手\n",
    "\n",
    "import wikipedia\n",
    "wikipedia.set_lang(\"ja\")\n",
    "text = wikipedia.summary('草津温泉',auto_suggest=False)\n",
    "print(text)"
   ]
  },
  {
   "cell_type": "code",
   "execution_count": null,
   "metadata": {},
   "outputs": [],
   "source": [
    "# リスト 2.1.6\n",
    "# Wikipediaの全文の入手\n",
    "\n",
    "import wikipedia\n",
    "wikipedia.set_lang(\"ja\")\n",
    "page = wikipedia.page('草津温泉',auto_suggest=False)\n",
    "print(page.content)"
   ]
  },
  {
   "cell_type": "code",
   "execution_count": null,
   "metadata": {},
   "outputs": [],
   "source": [
    "# リスト 2.1.7\n",
    "# 「赤倉温泉」をオプション指定なしに検索\n",
    "\n",
    "text = wikipedia.summary('赤倉温泉')\n",
    "print(text)"
   ]
  },
  {
   "cell_type": "code",
   "execution_count": null,
   "metadata": {},
   "outputs": [],
   "source": [
    "# リスト 2.1.8\n",
    "#  auto_suggest=Falseを付けて「赤倉温泉」を検索\n",
    "\n",
    "text = wikipedia.summary('赤倉温泉',auto_suggest=False)\n",
    "print(text)"
   ]
  },
  {
   "cell_type": "code",
   "execution_count": null,
   "metadata": {},
   "outputs": [],
   "source": [
    "# リスト 2.1.9\n",
    "# 県名まで指定した赤倉温泉の検索\n",
    "\n",
    "text1 = wikipedia.summary('赤倉温泉 (山形県)',auto_suggest=False)\n",
    "print(text1)\n",
    "\n",
    "text2 = wikipedia.summary('赤倉温泉 (新潟県)',auto_suggest=False)\n",
    "print(text2)"
   ]
  },
  {
   "cell_type": "code",
   "execution_count": null,
   "metadata": {},
   "outputs": [],
   "source": []
  }
 ],
 "metadata": {
  "kernelspec": {
   "display_name": "Python 3",
   "language": "python",
   "name": "python3"
  },
  "language_info": {
   "codemirror_mode": {
    "name": "ipython",
    "version": 3
   },
   "file_extension": ".py",
   "mimetype": "text/x-python",
   "name": "python",
   "nbconvert_exporter": "python",
   "pygments_lexer": "ipython3",
   "version": "3.7.3"
  }
 },
 "nbformat": 4,
 "nbformat_minor": 2
}
