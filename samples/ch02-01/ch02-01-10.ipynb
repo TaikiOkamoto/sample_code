{
 "cells": [
  {
   "cell_type": "markdown",
   "metadata": {},
   "source": [
    "# 2.1.4 PDF、Wordなどからの読み込み"
   ]
  },
  {
   "cell_type": "code",
   "execution_count": null,
   "metadata": {},
   "outputs": [],
   "source": [
    "# リスト 2.1.10\n",
    "# PDFファイルの読み込み\n",
    "\n",
    "from tika import parser\n",
    "pdf = 'https://github.com/makaishi2/text-anl-samples/raw/master/pdf/sample.pdf'\n",
    "parsed = parser.from_file(pdf)"
   ]
  },
  {
   "cell_type": "code",
   "execution_count": null,
   "metadata": {},
   "outputs": [],
   "source": [
    "# リスト2.1.11\n",
    "# PDF読み込み結果の確認\n",
    "\n",
    "import json\n",
    "print(json.dumps(parsed, indent=2, ensure_ascii=False))"
   ]
  },
  {
   "cell_type": "code",
   "execution_count": null,
   "metadata": {},
   "outputs": [],
   "source": [
    "# リスト 2.1.12\n",
    "# タイトルの表示\n",
    "\n",
    "print(parsed['metadata']['title'])"
   ]
  },
  {
   "cell_type": "code",
   "execution_count": null,
   "metadata": {},
   "outputs": [],
   "source": [
    "# リスト 2.1.13\n",
    "# PDFコンテンツの表示\n",
    "\n",
    "print(parsed['content'].replace('\\n', ''))"
   ]
  },
  {
   "cell_type": "code",
   "execution_count": null,
   "metadata": {},
   "outputs": [],
   "source": [
    "# リスト 2.1.14\n",
    "# Wordファイルの読み込み\n",
    "\n",
    "from tika import parser\n",
    "word = 'https://github.com/makaishi2/text-anl-samples/raw/master/word/sample.docx'\n",
    "parsed = parser.from_file(word)"
   ]
  },
  {
   "cell_type": "code",
   "execution_count": null,
   "metadata": {},
   "outputs": [],
   "source": [
    "# リスト 2.1.15\n",
    "# Wordタイトルの表示\n",
    "\n",
    "print(parsed['metadata']['title'])"
   ]
  },
  {
   "cell_type": "code",
   "execution_count": null,
   "metadata": {},
   "outputs": [],
   "source": [
    "# リスト2.1.16\n",
    "# Word読み込み結果の確認\n",
    "\n",
    "import json\n",
    "print(json.dumps(parsed, indent=2, ensure_ascii=False))"
   ]
  },
  {
   "cell_type": "code",
   "execution_count": null,
   "metadata": {},
   "outputs": [],
   "source": []
  }
 ],
 "metadata": {
  "kernelspec": {
   "display_name": "Python 3",
   "language": "python",
   "name": "python3"
  },
  "language_info": {
   "codemirror_mode": {
    "name": "ipython",
    "version": 3
   },
   "file_extension": ".py",
   "mimetype": "text/x-python",
   "name": "python",
   "nbconvert_exporter": "python",
   "pygments_lexer": "ipython3",
   "version": "3.7.3"
  }
 },
 "nbformat": 4,
 "nbformat_minor": 2
}
