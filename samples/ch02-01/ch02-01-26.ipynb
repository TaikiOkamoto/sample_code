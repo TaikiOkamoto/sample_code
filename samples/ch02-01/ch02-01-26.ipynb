{
 "cells": [
  {
   "cell_type": "markdown",
   "metadata": {},
   "source": [
    "# 2.1.7 DbPedia"
   ]
  },
  {
   "cell_type": "code",
   "execution_count": null,
   "metadata": {},
   "outputs": [],
   "source": [
    "# リスト 2.1.26\n",
    "# SPARQL 検索例1\n",
    "# 東証一部上場企業の一覧を取得し、名称と概要を表示する\n",
    "\n",
    "from SPARQLWrapper import SPARQLWrapper\n",
    "\n",
    "sparql = SPARQLWrapper(endpoint='http://ja.dbpedia.org/sparql', returnFormat='json')\n",
    "sparql.setQuery(\"\"\"\n",
    "select distinct ?name ?abstract where {\n",
    "    ?company <http://dbpedia.org/ontology/wikiPageWikiLink> <http://ja.dbpedia.org/resource/Category:東証一部上場企業> .\n",
    "    ?company rdfs:label ?name .\n",
    "    ?company <http://dbpedia.org/ontology/abstract> ?abstract .\n",
    "}\n",
    "\"\"\")\n",
    "results = sparql.query().convert()\n",
    "\n",
    "# 検索結果から名称(name)と概要(abstract)を抽出\n",
    "import json\n",
    "items = []\n",
    "for result in results['results']['bindings']:\n",
    "    item = {}\n",
    "    item['name'] = result['name']['value']\n",
    "    item['abstruct'] = result['abstract']['value'].replace('\\n', '')\n",
    "    items.append(item)\n",
    "\n",
    "# 抽出結果から先頭5行を表示\n",
    "for item in items[:5]:\n",
    "    print(json.dumps(item, indent=2, ensure_ascii=False))    "
   ]
  },
  {
   "cell_type": "code",
   "execution_count": null,
   "metadata": {},
   "outputs": [],
   "source": [
    "# リスト2.1.27\n",
    "# SPARQL 検索例2\n",
    "# 手塚治虫文化賞の受賞作家と作品名の一覧を取得\n",
    "\n",
    "from SPARQLWrapper import SPARQLWrapper\n",
    "\n",
    "sparql = SPARQLWrapper(endpoint='http://ja.dbpedia.org/sparql', returnFormat='json')\n",
    "sparql.setQuery(\"\"\"\n",
    "PREFIX dbp:      <http://ja.dbpedia.org/resource/> \n",
    "PREFIX dbp-owl: <http://dbpedia.org/ontology/>\n",
    "PREFIX rdfs:    <http://www.w3.org/2000/01/rdf-schema#>\n",
    "SELECT ?creatorName ?comics\n",
    "{\n",
    "?creator a  dbp-owl:ComicsCreator;\n",
    "dbp-owl:award dbp:手塚治虫文化賞;\n",
    "dbp-owl:notableWork ?comic;\n",
    "rdfs:label ?creatorName.\n",
    "?comic rdfs:label ?comics .\n",
    "}\n",
    "\"\"\")\n",
    "results = sparql.query().convert()\n",
    "\n",
    "# 検索結果から名称(name)と概要(abstract)を抽出\n",
    "import json\n",
    "items = []\n",
    "for result in results['results']['bindings']:\n",
    "    item = {}\n",
    "    item['creatorName'] = result['creatorName']['value']\n",
    "    item['comics'] = result['comics']['value']\n",
    "    items.append(item)\n",
    "\n",
    "# 抽出結果から先頭5行を表示\n",
    "for item in items[:5]:\n",
    "    print(json.dumps(item, indent=2, ensure_ascii=False))    "
   ]
  },
  {
   "cell_type": "code",
   "execution_count": null,
   "metadata": {},
   "outputs": [],
   "source": []
  }
 ],
 "metadata": {
  "kernelspec": {
   "display_name": "Python 3",
   "language": "python",
   "name": "python3"
  },
  "language_info": {
   "codemirror_mode": {
    "name": "ipython",
    "version": 3
   },
   "file_extension": ".py",
   "mimetype": "text/x-python",
   "name": "python",
   "nbconvert_exporter": "python",
   "pygments_lexer": "ipython3",
   "version": "3.7.3"
  }
 },
 "nbformat": 4,
 "nbformat_minor": 2
}
