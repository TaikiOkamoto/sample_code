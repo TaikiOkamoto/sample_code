{
 "cells": [
  {
   "cell_type": "markdown",
   "metadata": {},
   "source": [
    "# 2.2.1 テキスト抽出"
   ]
  },
  {
   "cell_type": "code",
   "execution_count": null,
   "metadata": {},
   "outputs": [],
   "source": [
    "# リスト 2.1.1 \n",
    "# 青空文庫からテキストを抽出 (夏目漱石　三四郎)\n",
    "\n",
    "# zipファイルのダウンロード\n",
    "url = 'https://www.aozora.gr.jp/cards/000148/files/794_ruby_4237.zip'\n",
    "zip = '794_ruby_4237.zip'\n",
    "import urllib.request\n",
    "urllib.request.urlretrieve(url, zip)\n",
    "\n",
    "# ダウンロードしたzipファイルの解凍\n",
    "import zipfile\n",
    "with zipfile.ZipFile(zip, 'r') as myzip:\n",
    "    myzip.extractall()\n",
    "    # 解凍後のファイルからデータの読み込み\n",
    "    for myfile in myzip.infolist():\n",
    "        # 解凍後にファイル名を取得\n",
    "        filename = myfile.filename\n",
    "        # ファイルのオープン時にencodingを指定してsjisの変換をする\n",
    "        with open(filename, encoding='sjis') as file:\n",
    "            text_org = file.read()"
   ]
  },
  {
   "cell_type": "code",
   "execution_count": null,
   "metadata": {},
   "outputs": [],
   "source": [
    "# リスト 2.1.2\n",
    "# テキスト内容の確認\n",
    "\n",
    "print('【整形前文頭部分】')\n",
    "print(text_org[:600])\n",
    "\n",
    "\n",
    "# 区切り表示\n",
    "print()\n",
    "print('*' * 100)\n",
    "print()\n",
    "\n",
    "print('【整形前文末部分】')\n",
    "print(text_org[-300:])\n",
    "print('*' * 100)\n",
    "print()"
   ]
  },
  {
   "cell_type": "code",
   "execution_count": null,
   "metadata": {},
   "outputs": [],
   "source": [
    "# リスト 2.1.3 \n",
    "# テキストの整形\n",
    "\n",
    "import re\n",
    "# ヘッダ部分の除去\n",
    "text = re.split('\\-{5,}',text_org)[2]\n",
    "# フッタ部分の除去\n",
    "text = re.split('底本：',text)[0]\n",
    "# | の除去\n",
    "text = text.replace('|', '')\n",
    "# ルビの削除\n",
    "text = re.sub('《.+?》', '', text)\n",
    "# 入力注の削除\n",
    "text = re.sub('［＃.+?］', '',text)\n",
    "# 空行の削除\n",
    "text = re.sub('\\n\\n', '\\n', text) \n",
    "text = re.sub('\\r', '', text)"
   ]
  },
  {
   "cell_type": "code",
   "execution_count": null,
   "metadata": {},
   "outputs": [],
   "source": [
    "# リスト 2.1.4 \n",
    "# 整形結果の確認\n",
    "\n",
    "# 頭の100文字の表示 \n",
    "print('【整形後文頭部分】')\n",
    "print(text[:100])\n",
    "\n",
    "# 区切り表示\n",
    "print()\n",
    "print('*' * 100)\n",
    "print()\n",
    "\n",
    "# 後ろの100文字の表示 \n",
    "print('【整形後文末部分】')\n",
    "print(text[-100:])"
   ]
  },
  {
   "cell_type": "code",
   "execution_count": null,
   "metadata": {},
   "outputs": [],
   "source": []
  }
 ],
 "metadata": {
  "kernelspec": {
   "display_name": "Python 3",
   "language": "python",
   "name": "python3"
  },
  "language_info": {
   "codemirror_mode": {
    "name": "ipython",
    "version": 3
   },
   "file_extension": ".py",
   "mimetype": "text/x-python",
   "name": "python",
   "nbconvert_exporter": "python",
   "pygments_lexer": "ipython3",
   "version": "3.7.3"
  }
 },
 "nbformat": 4,
 "nbformat_minor": 2
}
