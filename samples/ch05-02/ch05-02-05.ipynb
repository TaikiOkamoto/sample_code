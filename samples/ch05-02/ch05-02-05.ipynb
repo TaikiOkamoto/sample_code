{
 "cells": [
  {
   "cell_type": "markdown",
   "metadata": {},
   "source": [
    "### 5.2.2 学習済みモデルを利用する"
   ]
  },
  {
   "cell_type": "markdown",
   "metadata": {},
   "source": [
    "#### 前提\n",
    "\n",
    "次のライブラリがpipコマンドで導入済みであること\n",
    "\n",
    "```\n",
    "pip install gensim\n",
    "```\n",
    "\n",
    "次の3つのファイルがカレントディレクトリにあること\n",
    "\n",
    "```\n",
    "ja.bin\n",
    "ja.bin.syn0.npy\n",
    "ja.bin.syn1neg.npy\n",
    "```"
   ]
  },
  {
   "cell_type": "code",
   "execution_count": null,
   "metadata": {},
   "outputs": [],
   "source": [
    "# リスト 5.2.5\n",
    "# 学習済みWord2Vecデータのロード\n",
    "\n",
    "import gensim \n",
    "model = gensim.models.Word2Vec.load('ja.bin')\n",
    "print(model)"
   ]
  },
  {
   "cell_type": "code",
   "execution_count": null,
   "metadata": {},
   "outputs": [],
   "source": [
    "# リスト 5.2.6\n",
    "# 学習済みWord2Vecの挙動を調べる\n",
    "\n",
    "# 「世間」の特徴量ベクトルを調べる\n",
    "print('「世間」の特徴量ベクトル')\n",
    "print(model.wv['世間'])\n",
    "\n",
    "# 「世間」の類似語を調べる\n",
    "print()\n",
    "print('「世間」の類似語')\n",
    "for item, value in model.wv.most_similar(\"世間\"):\n",
    "    print(item, value)"
   ]
  },
  {
   "cell_type": "code",
   "execution_count": null,
   "metadata": {},
   "outputs": [],
   "source": [
    "# リスト 5.2.7 \n",
    "# 「日本」->「東京」から「フランス」->「X」を求める\n",
    "\n",
    "model.wv.most_similar(positive=['東京', 'フランス'], negative=['日本'])"
   ]
  },
  {
   "cell_type": "code",
   "execution_count": null,
   "metadata": {},
   "outputs": [],
   "source": [
    "# リスト 5.2.8 \n",
    "# 「男」->「女」から「Y」->「妻」を求める\n",
    "\n",
    "model.wv.most_similar(positive=['妻', '男'], negative=['女'])"
   ]
  },
  {
   "cell_type": "code",
   "execution_count": null,
   "metadata": {},
   "outputs": [],
   "source": []
  }
 ],
 "metadata": {
  "kernelspec": {
   "display_name": "Python 3",
   "language": "python",
   "name": "python3"
  },
  "language_info": {
   "codemirror_mode": {
    "name": "ipython",
    "version": 3
   },
   "file_extension": ".py",
   "mimetype": "text/x-python",
   "name": "python",
   "nbconvert_exporter": "python",
   "pygments_lexer": "ipython3",
   "version": "3.7.3"
  }
 },
 "nbformat": 4,
 "nbformat_minor": 2
}
