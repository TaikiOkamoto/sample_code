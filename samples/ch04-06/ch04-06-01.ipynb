{
 "cells": [
  {
   "cell_type": "markdown",
   "metadata": {},
   "source": [
    "# 4.6 API経由でDiscoveryを使う"
   ]
  },
  {
   "cell_type": "markdown",
   "metadata": {},
   "source": [
    "## 4.6.1 APIの初期化"
   ]
  },
  {
   "cell_type": "code",
   "execution_count": null,
   "metadata": {},
   "outputs": [],
   "source": [
    "# 必要ライブラリの導入\n",
    "!pip install -U ibm_watson | tail -n 1"
   ]
  },
  {
   "cell_type": "code",
   "execution_count": null,
   "metadata": {},
   "outputs": [],
   "source": [
    "# リスト4.6.1\n",
    "# 資格情報の設定 (個別に設定します)\n",
    "\n",
    "discovery_credentials = {\n",
    "  \"apikey\": \"xxxx\",\n",
    "  \"iam_apikey_description\": \"xxxx\",\n",
    "  \"iam_apikey_name\": \"xxxx\",\n",
    "  \"iam_role_crn\": \"xxxx\",\n",
    "  \"iam_serviceid_crn\": \"xxxx\",\n",
    "  \"url\": \"xxxx\"\n",
    "}\n",
    "\n",
    "# Discovery APIの初期化\n",
    "\n",
    "import json\n",
    "import os\n",
    "from ibm_watson import DiscoveryV1\n",
    "from ibm_cloud_sdk_core.authenticators import IAMAuthenticator\n",
    "\n",
    "version = '2019-04-30'\n",
    "\n",
    "authenticator = IAMAuthenticator(discovery_credentials['apikey'])\n",
    "discovery = DiscoveryV1(\n",
    "    version=version,\n",
    "    authenticator=authenticator\n",
    ")\n",
    "discovery.set_service_url(discovery_credentials['url'])"
   ]
  },
  {
   "cell_type": "code",
   "execution_count": null,
   "metadata": {},
   "outputs": [],
   "source": [
    "# リスト 4.6.2\n",
    "# environment_id、collection_id、configuration_id の取得\n",
    "# すでにUIで1つのprivate collectionが作成済みであることが前提\n",
    "\n",
    "# environment id の取得\n",
    "environments = discovery.list_environments().get_result()['environments']\n",
    "environment_id = environments[0]['environment_id']\n",
    "if environment_id == 'system':\n",
    "    environment_id = environments[1]['environment_id']\n",
    "print('environment_id: ', environment_id)\n",
    "\n",
    "# collection id の取得\n",
    "collection_id = discovery.list_collections(environment_id ).get_result()['collections'][0]['collection_id']\n",
    "print('collection_id: ' , collection_id)\n",
    "\n",
    "# configuration idの取得\n",
    "configuration_id = discovery.list_configurations(environment_id).get_result()['configurations'][0]['configuration_id']\n",
    "print('configuration_id: ', configuration_id)"
   ]
  },
  {
   "cell_type": "markdown",
   "metadata": {},
   "source": [
    "## 4.6.2 文書のロードと削除"
   ]
  },
  {
   "cell_type": "code",
   "execution_count": null,
   "metadata": {},
   "outputs": [],
   "source": [
    "#  リスト 4.6.3 \n",
    "# 文書ロード関数\n",
    "# collection_id: 対象コレクション\n",
    "# sample_data: 書き込み対象テキスト (json形式の配列)\n",
    "# key_name: 文書のユニークキー名称\n",
    "\n",
    "def load_text( collection_id, sample_data, key_name):\n",
    "    for item in sample_data:\n",
    "        \n",
    "        # item毎にワークのjsonファイルを作成\n",
    "        print(item)\n",
    "        key = item.get(key_name)\n",
    "        filename = str(key) + '.json'\n",
    "        f = open(filename, 'w')\n",
    "        json.dump(item, f)\n",
    "        f.close()\n",
    "        \n",
    "        # 書き込み可能かのチェック\n",
    "        collection = discovery.get_collection(environment_id, collection_id).get_result()\n",
    "        proc_docs = collection['document_counts']['processing']\n",
    "        while True:\n",
    "            if proc_docs < 20:\n",
    "                break\n",
    "            print('busy. waiting..')\n",
    "            time.sleep(10)\n",
    "            collection = discovery.get_collection(environment_id, collection_id)\n",
    "            proc_docs = collection['document_counts']['processing']\n",
    "\n",
    "        # jsonファイル名を引数にDiscoveryへデータロード\n",
    "        with open(filename) as f:\n",
    "            add_doc = discovery.add_document(environment_id, collection_id, file = f)\n",
    "        os.remove(filename)"
   ]
  },
  {
   "cell_type": "code",
   "execution_count": null,
   "metadata": {},
   "outputs": [],
   "source": [
    "#  リスト 4.6.4 \n",
    "# 文書ロードサンプル\n",
    "\n",
    "# ロードテスト用テキスト\n",
    "sample_data = [\n",
    "    {'app_id': 1, 'title': '最初のテキスト', 'text': 'サンプルテキストその1。'},\n",
    "    {'app_id': 2, 'title': '2番目のテキスト', 'text': '新幹線はやぶさが好きです。'},\n",
    "    {'app_id': 3, 'title': '3番目のテキスト', 'text': '令和元年に転職しました。'},\n",
    "]\n",
    "\n",
    "# 文書ロードテスト\n",
    "load_text(collection_id, sample_data, 'app_id')"
   ]
  },
  {
   "cell_type": "code",
   "execution_count": null,
   "metadata": {},
   "outputs": [],
   "source": [
    "# リスト4.6.5\n",
    "# 特定のコレクションの全文書を削除する関数\n",
    "# collection_id: 対象コレクション\n",
    "\n",
    "def delete_all_docs(collection_id):\n",
    "\n",
    "    # 文書件数取得\n",
    "    collection = discovery.get_collection(environment_id, collection_id).get_result()\n",
    "    doc_count = collection['document_counts']['available']\n",
    "\n",
    "    results = discovery.query(environment_id, collection_id, return_fields='id', count=doc_count).get_result()[\"results\"]\n",
    "    ids = [item[\"id\"] for item in results]\n",
    "\n",
    "    for id in ids:\n",
    "        print('deleting doc: id =' + id)\n",
    "        discovery.delete_document(environment_id, collection_id, id)"
   ]
  },
  {
   "cell_type": "code",
   "execution_count": null,
   "metadata": {},
   "outputs": [],
   "source": [
    "# リスト4.6.6\n",
    "\n",
    "# 全件削除テスト\n",
    "delete_all_docs(collection_id)"
   ]
  },
  {
   "cell_type": "markdown",
   "metadata": {},
   "source": [
    "## 4.6.3 検索"
   ]
  },
  {
   "cell_type": "code",
   "execution_count": null,
   "metadata": {},
   "outputs": [],
   "source": [
    "# リスト4.6.7\n",
    "\n",
    "# 検索用関数\n",
    "# collection_id: 検索対象コレクション\n",
    "# query_text: 検索条件式\n",
    "# return_fields: 出力項目\n",
    "\n",
    "def query_documents(collection_id, query_text, return_fields):\n",
    "    # 文書件数取得\n",
    "    collection = discovery.get_collection(environment_id, collection_id).get_result()\n",
    "    doc_count = collection['document_counts']['available']\n",
    "    print('doc_count: ', doc_count)\n",
    "\n",
    "    query_results = discovery.query(environment_id, collection_id, \n",
    "        query=query_text, \n",
    "        count=doc_count, \n",
    "        return_fields=return_fields).get_result()[ \"results\"]\n",
    "    return query_results"
   ]
  },
  {
   "cell_type": "markdown",
   "metadata": {},
   "source": [
    "### textフィールドに「サンプル」を含む文書の検索"
   ]
  },
  {
   "cell_type": "code",
   "execution_count": null,
   "metadata": {},
   "outputs": [],
   "source": [
    "# リスト4.6.8\n",
    "#「サンプル」をキーとした検索 \n",
    "\n",
    "query_text = 'text:サンプル'\n",
    "return_fields = 'app_id,title,text'\n",
    "query_results = query_documents(collection_id, query_text, return_fields)\n",
    "\n",
    "print(json.dumps(query_results, indent=2, ensure_ascii=False))"
   ]
  },
  {
   "cell_type": "markdown",
   "metadata": {},
   "source": [
    "### textフィールドに「はやぶさ」を含む文書の検索\n",
    "同じ方式で「はやぶさ」を含む文字列の検索を試します。"
   ]
  },
  {
   "cell_type": "code",
   "execution_count": null,
   "metadata": {},
   "outputs": [],
   "source": [
    "# リスト4.6.9 \n",
    "# はやぶさ」をキーとした検索\n",
    "\n",
    "query_text = 'text:はやぶさ'\n",
    "return_fields = 'app_id,title,text'\n",
    "query_results = query_documents(collection_id, query_text, return_fields)\n",
    "\n",
    "print(json.dumps(query_results, indent=2, ensure_ascii=False))"
   ]
  },
  {
   "cell_type": "markdown",
   "metadata": {},
   "source": [
    "## 4.6.4 形態素辞書の利用"
   ]
  },
  {
   "cell_type": "code",
   "execution_count": null,
   "metadata": {},
   "outputs": [],
   "source": [
    "# リスト 4.6.10\n",
    "# 形態素辞書の定義例\n",
    "\n",
    "custom_list = [\n",
    "    {\n",
    "        \"text\":\"はやぶさ\",\n",
    "        \"tokens\":[\"はやぶさ\"],\n",
    "        \"readings\":[ \"ハヤブサ\"],\n",
    "        \"part_of_speech\":\"カスタム名詞\"\n",
    "    }\n",
    "  ]"
   ]
  },
  {
   "cell_type": "code",
   "execution_count": null,
   "metadata": {
    "scrolled": true
   },
   "outputs": [],
   "source": [
    "# リスト4.6.11\n",
    "# 形態素辞書の登録用関数\n",
    "\n",
    "def register_tokenization_dictionary(collection_id,  tokenization_rules):\n",
    "    res = discovery.create_tokenization_dictionary(environment_id, collection_id, tokenization_rules=tokenization_rules)\n",
    "    import time\n",
    "    res = discovery.get_tokenization_dictionary_status(environment_id, collection_id).get_result()\n",
    "    while res['status'] == 'pending':\n",
    "        time.sleep(10)\n",
    "        res = discovery.get_tokenization_dictionary_status(environment_id, collection_id).get_result()\n",
    "        print(res)    "
   ]
  },
  {
   "cell_type": "code",
   "execution_count": null,
   "metadata": {},
   "outputs": [],
   "source": [
    "# リスト4.6.12\n",
    "# 形態素辞書登録用関数の呼び出し例\n",
    "\n",
    "register_tokenization_dictionary(collection_id,  custom_list)"
   ]
  },
  {
   "cell_type": "code",
   "execution_count": null,
   "metadata": {},
   "outputs": [],
   "source": [
    "# リスト 4.6.13\n",
    "# 「はやぶさ」で検索できることの確認\n",
    "\n",
    "delete_all_docs(collection_id)\n",
    "load_text(collection_id, sample_data, 'app_id')\n",
    "\n",
    "import time\n",
    "time.sleep(30)\n",
    "\n",
    "query_text = 'text:はやぶさ'\n",
    "return_fields = 'app_id,title,text'\n",
    "query_results = query_documents(collection_id, query_text, return_fields)\n",
    "\n",
    "print(json.dumps(query_results, indent=2, ensure_ascii=False))"
   ]
  },
  {
   "cell_type": "code",
   "execution_count": null,
   "metadata": {},
   "outputs": [],
   "source": []
  }
 ],
 "metadata": {
  "kernelspec": {
   "display_name": "Python 3",
   "language": "python",
   "name": "python3"
  },
  "language_info": {
   "codemirror_mode": {
    "name": "ipython",
    "version": 3
   },
   "file_extension": ".py",
   "mimetype": "text/x-python",
   "name": "python",
   "nbconvert_exporter": "python",
   "pygments_lexer": "ipython3",
   "version": "3.7.3"
  }
 },
 "nbformat": 4,
 "nbformat_minor": 2
}
