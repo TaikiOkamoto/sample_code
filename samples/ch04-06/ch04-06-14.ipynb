{
 "cells": [
  {
   "cell_type": "markdown",
   "metadata": {},
   "source": [
    "## 4.6.5 Discoveryで類似検索"
   ]
  },
  {
   "cell_type": "markdown",
   "metadata": {},
   "source": [
    "### Wikipediaからテキストの一覧を作成"
   ]
  },
  {
   "cell_type": "code",
   "execution_count": null,
   "metadata": {},
   "outputs": [],
   "source": [
    "# 必要ライブラリの導入\n",
    "!pip install wikipedia | tail -n 1"
   ]
  },
  {
   "cell_type": "code",
   "execution_count": null,
   "metadata": {},
   "outputs": [],
   "source": [
    "# 日本百名湯のうち、wikipediaに記事のある温泉のリスト\n",
    "\n",
    "title_list = ['菅野温泉','養老牛温泉','定山渓温泉','登別温泉','洞爺湖温泉','ニセコ温泉郷','朝日温泉 (北海道)',\n",
    "          '酸ヶ湯温泉','蔦温泉', '花巻南温泉峡','夏油温泉','須川高原温泉','鳴子温泉郷','遠刈田温泉','峩々温泉',\n",
    "           '乳頭温泉郷','後生掛温泉','玉川温泉 (秋田県)','秋ノ宮温泉郷','銀山温泉','瀬見温泉','赤倉温泉 (山形県)',\n",
    "           '東山温泉','飯坂温泉','二岐温泉','那須温泉郷','塩原温泉郷','鬼怒川温泉','奥鬼怒温泉郷',\n",
    "           '草津温泉','伊香保温泉','四万温泉','法師温泉','箱根温泉','湯河原温泉',\n",
    "           '越後湯沢温泉','松之山温泉','大牧温泉','山中温泉','山代温泉','粟津温泉',\n",
    "           '奈良田温泉','西山温泉 (山梨県)','野沢温泉','湯田中温泉','別所温泉','中房温泉','白骨温泉','小谷温泉',\n",
    "           '下呂温泉','福地温泉','熱海温泉','伊東温泉','修善寺温泉','湯谷温泉 (愛知県)','榊原温泉','木津温泉',\n",
    "           '有馬温泉','城崎温泉','湯村温泉 (兵庫県)','十津川温泉','南紀白浜温泉','南紀勝浦温泉','湯の峰温泉','龍神温泉',\n",
    "           '奥津温泉','湯原温泉','三朝温泉','岩井温泉','関金温泉','玉造温泉','有福温泉','温泉津温泉',\n",
    "           '湯田温泉','長門湯本温泉','祖谷温泉','道後温泉','二日市温泉 (筑紫野市)','嬉野温泉','武雄温泉',\n",
    "           '雲仙温泉','小浜温泉','黒川温泉','地獄温泉','垂玉温泉','杖立温泉','日奈久温泉',\n",
    "           '鉄輪温泉','明礬温泉','由布院温泉','川底温泉','長湯温泉','京町温泉',\n",
    "           '指宿温泉','霧島温泉郷','新川渓谷温泉郷','栗野岳温泉']\n",
    "\n",
    "# wikipediaの記事の読み取り\n",
    "# 2.1節参照\n",
    "import wikipedia\n",
    "wikipedia.set_lang(\"ja\")\n",
    "\n",
    "data_list = []\n",
    "for index, title in enumerate(title_list):\n",
    "    print(index+1, title)\n",
    "    text = wikipedia.page(title,auto_suggest=False).content\n",
    "    item = {\n",
    "        'app_id': index + 1,\n",
    "        'title': title,\n",
    "        'text': text\n",
    "    }\n",
    "    data_list.append(item)"
   ]
  },
  {
   "cell_type": "markdown",
   "metadata": {},
   "source": [
    "## Discoveryにデータ投入"
   ]
  },
  {
   "cell_type": "code",
   "execution_count": null,
   "metadata": {},
   "outputs": [],
   "source": [
    "# 必要ライブラリの導入\n",
    "!pip install ibm_watson | tail -n 1"
   ]
  },
  {
   "cell_type": "code",
   "execution_count": null,
   "metadata": {},
   "outputs": [],
   "source": [
    "# 資格情報の設定 (個別に設定します)\n",
    "\n",
    "discovery_credentials = {\n",
    "  \"apikey\": \"xxxx\",\n",
    "  \"iam_apikey_description\": \"xxxx\",\n",
    "  \"iam_apikey_name\": \"xxxx\",\n",
    "  \"iam_role_crn\": \"xxxx\",\n",
    "  \"iam_serviceid_crn\": \"xxxx\",\n",
    "  \"url\": \"xxxx\"\n",
    "}"
   ]
  },
  {
   "cell_type": "code",
   "execution_count": null,
   "metadata": {},
   "outputs": [],
   "source": [
    "# Discovery APIの初期化\n",
    "\n",
    "import json\n",
    "import os\n",
    "from ibm_watson import DiscoveryV1\n",
    "from ibm_cloud_sdk_core.authenticators import IAMAuthenticator\n",
    "\n",
    "version = '2019-04-30'\n",
    "\n",
    "authenticator = IAMAuthenticator(discovery_credentials['apikey'])\n",
    "discovery = DiscoveryV1(\n",
    "    version=version,\n",
    "    authenticator=authenticator\n",
    ")\n",
    "discovery.set_service_url(discovery_credentials['url'])"
   ]
  },
  {
   "cell_type": "code",
   "execution_count": null,
   "metadata": {},
   "outputs": [],
   "source": [
    "# environment_id、collection_id、configuration_id の取得\n",
    "# すでにUIで1つのprivate collectionが作成済みであることが前提\n",
    "\n",
    "# environment id の取得\n",
    "environments = discovery.list_environments().get_result()['environments']\n",
    "environment_id = environments[0]['environment_id']\n",
    "if environment_id == 'system':\n",
    "    environment_id = environments[1]['environment_id']\n",
    "print('environment_id: ', environment_id)\n",
    "\n",
    "# collection id の取得\n",
    "collection_id = discovery.list_collections(environment_id ).get_result()['collections'][0]['collection_id']\n",
    "print('collection_id: ' , collection_id)\n",
    "\n",
    "# configuration idの取得\n",
    "configuration_id = discovery.list_configurations(environment_id).get_result()['configurations'][0]['configuration_id']\n",
    "print('configuration_id: ', configuration_id)"
   ]
  },
  {
   "cell_type": "markdown",
   "metadata": {},
   "source": [
    "## 文書のロードと削除用関数 (4.6.2節)"
   ]
  },
  {
   "cell_type": "code",
   "execution_count": null,
   "metadata": {},
   "outputs": [],
   "source": [
    "# 文書ロード関数\n",
    "# collection_id: 対象コレクション\n",
    "# sample_data: 書き込み対象テキスト (json形式の配列)\n",
    "# key_name: 文書のユニークキー名称\n",
    "\n",
    "def load_text( collection_id, sample_data, key_name):\n",
    "    for item in sample_data:\n",
    "        \n",
    "        # itemごとにワークのjsonファイルを作成\n",
    "        print(item)\n",
    "        key = item.get(key_name)\n",
    "        filename = str(key) + '.json'\n",
    "        f = open(filename, 'w')\n",
    "        json.dump(item, f)\n",
    "        f.close()\n",
    "        \n",
    "        # 書き込み可能かのチェック\n",
    "        collection = discovery.get_collection(environment_id, collection_id).get_result()\n",
    "        proc_docs = collection['document_counts']['processing']\n",
    "        while True:\n",
    "            if proc_docs < 20:\n",
    "                break\n",
    "            print('busy. waiting..')\n",
    "            time.sleep(10)\n",
    "            collection = discovery.get_collection(environment_id, collection_id)\n",
    "            proc_docs = collection['document_counts']['processing']\n",
    "\n",
    "        # jsonファイル名を引数にDiscoveryへデータロード\n",
    "        with open(filename) as f:\n",
    "            add_doc = discovery.add_document(environment_id, collection_id, file = f)\n",
    "        os.remove(filename)"
   ]
  },
  {
   "cell_type": "code",
   "execution_count": null,
   "metadata": {},
   "outputs": [],
   "source": [
    "# 特定のコレクションの全文書を削除する関数\n",
    "# collection_id: 対象コレクション\n",
    "\n",
    "def delete_all_docs(collection_id):\n",
    "\n",
    "    # 文書件数取得\n",
    "    collection = discovery.get_collection(environment_id, collection_id).get_result()\n",
    "    doc_count = collection['document_counts']['available']\n",
    "\n",
    "    results = discovery.query(environment_id, collection_id, return_fields='id', count=doc_count).get_result()[\"results\"]\n",
    "    ids = [item[\"id\"] for item in results]\n",
    "\n",
    "    for id in ids:\n",
    "        print('deleting doc: id =' + id)\n",
    "        discovery.delete_document(environment_id, collection_id, id)"
   ]
  },
  {
   "cell_type": "code",
   "execution_count": null,
   "metadata": {},
   "outputs": [],
   "source": [
    "# 既存文書の全削除\n",
    "delete_all_docs(collection_id)"
   ]
  },
  {
   "cell_type": "code",
   "execution_count": null,
   "metadata": {
    "scrolled": true
   },
   "outputs": [],
   "source": [
    "# wikipedia文書のロード\n",
    "load_text(collection_id, data_list, 'app_id')"
   ]
  },
  {
   "cell_type": "markdown",
   "metadata": {},
   "source": [
    "## 類似検索"
   ]
  },
  {
   "cell_type": "code",
   "execution_count": null,
   "metadata": {},
   "outputs": [],
   "source": [
    "# リスト 4.6.14\n",
    "# 定山渓温泉のid値を調べる\n",
    "\n",
    "return_fields = 'app_id,title'\n",
    "filter_text = 'title::定山渓温泉'\n",
    "\n",
    "query_results = discovery.query(environment_id, collection_id, \n",
    "    filter=filter_text, \n",
    "    return_fields=return_fields).get_result()[ \"results\"]\n",
    "\n",
    "similar_document_id = query_results[0][\"id\"]\n",
    "print(similar_document_id)"
   ]
  },
  {
   "cell_type": "code",
   "execution_count": null,
   "metadata": {},
   "outputs": [],
   "source": [
    "# リスト 4.6.15\n",
    "# 類似検索と結果表示\n",
    "\n",
    "# 類似検索実施\n",
    "simular_results = discovery.query(environment_id, collection_id, \n",
    "    similar = 'true',\n",
    "    similar_document_ids = similar_document_id)\n",
    "res = simular_results.get_result()\n",
    "res2 = res['results']\n",
    "\n",
    "# 結果表示\n",
    "for item in res2:\n",
    "    metadata = item['result_metadata']\n",
    "    score = metadata['score']\n",
    "    app_id = item['app_id']\n",
    "    title = item['title']\n",
    "    print(app_id, title, score)"
   ]
  },
  {
   "cell_type": "code",
   "execution_count": null,
   "metadata": {},
   "outputs": [],
   "source": []
  }
 ],
 "metadata": {
  "kernelspec": {
   "display_name": "Python 3",
   "language": "python",
   "name": "python3"
  },
  "language_info": {
   "codemirror_mode": {
    "name": "ipython",
    "version": 3
   },
   "file_extension": ".py",
   "mimetype": "text/x-python",
   "name": "python",
   "nbconvert_exporter": "python",
   "pygments_lexer": "ipython3",
   "version": "3.7.3"
  }
 },
 "nbformat": 4,
 "nbformat_minor": 2
}
