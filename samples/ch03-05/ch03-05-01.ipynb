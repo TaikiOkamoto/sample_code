{
 "cells": [
  {
   "cell_type": "markdown",
   "metadata": {},
   "source": [
    "## 3.5 Elastic Serach類似検索"
   ]
  },
  {
   "cell_type": "markdown",
   "metadata": {},
   "source": [
    "### Wikipediaからテキストの一覧を作成"
   ]
  },
  {
   "cell_type": "code",
   "execution_count": null,
   "metadata": {},
   "outputs": [],
   "source": [
    "# リスト 3-5-1 Wikipediaの日本百名湯記事で類似文書検索\n",
    "# 日本百名湯のうち、wikipediaに記事のある温泉のリスト\n",
    "\n",
    "title_list = ['菅野温泉','養老牛温泉','定山渓温泉','登別温泉','洞爺湖温泉','ニセコ温泉郷','朝日温泉 (北海道)',\n",
    "          '酸ヶ湯温泉','蔦温泉', '花巻南温泉峡','夏油温泉','須川高原温泉','鳴子温泉郷','遠刈田温泉','峩々温泉',\n",
    "           '乳頭温泉郷','後生掛温泉','玉川温泉 (秋田県)','秋ノ宮温泉郷','銀山温泉','瀬見温泉','赤倉温泉 (山形県)',\n",
    "           '東山温泉','飯坂温泉','二岐温泉','那須温泉郷','塩原温泉郷','鬼怒川温泉','奥鬼怒温泉郷',\n",
    "           '草津温泉','伊香保温泉','四万温泉','法師温泉','箱根温泉','湯河原温泉',\n",
    "           '越後湯沢温泉','松之山温泉','大牧温泉','山中温泉','山代温泉','粟津温泉',\n",
    "           '奈良田温泉','西山温泉 (山梨県)','野沢温泉','湯田中温泉','別所温泉','中房温泉','白骨温泉','小谷温泉',\n",
    "           '下呂温泉','福地温泉','熱海温泉','伊東温泉','修善寺温泉','湯谷温泉 (愛知県)','榊原温泉','木津温泉',\n",
    "           '有馬温泉','城崎温泉','湯村温泉 (兵庫県)','十津川温泉','南紀白浜温泉','南紀勝浦温泉','湯の峰温泉','龍神温泉',\n",
    "           '奥津温泉','湯原温泉','三朝温泉','岩井温泉','関金温泉','玉造温泉','有福温泉','温泉津温泉',\n",
    "           '湯田温泉','長門湯本温泉','祖谷温泉','道後温泉','二日市温泉 (筑紫野市)','嬉野温泉','武雄温泉',\n",
    "           '雲仙温泉','小浜温泉','黒川温泉','地獄温泉','垂玉温泉','杖立温泉','日奈久温泉',\n",
    "           '鉄輪温泉','明礬温泉','由布院温泉','川底温泉','長湯温泉','京町温泉',\n",
    "           '指宿温泉','霧島温泉郷','新川渓谷温泉郷','栗野岳温泉']\n",
    "\n",
    "# wikipediaの記事の読み取り\n",
    "# 2.1節参照\n",
    "import wikipedia\n",
    "wikipedia.set_lang(\"ja\")\n",
    "\n",
    "data_list = []\n",
    "for index, title in enumerate(title_list):\n",
    "    print(index+1, title)\n",
    "    text = wikipedia.page(title,auto_suggest=False).content\n",
    "    item = {\n",
    "        'app_id': index+1,\n",
    "        'title': title,\n",
    "        'text': text\n",
    "    }\n",
    "    data_list.append(item)"
   ]
  },
  {
   "cell_type": "markdown",
   "metadata": {},
   "source": [
    "## Elastic Serachに文書の取込み"
   ]
  },
  {
   "cell_type": "code",
   "execution_count": null,
   "metadata": {},
   "outputs": [],
   "source": [
    "# Elasticsearchインスタンスの生成\n",
    "# 3.3節参照\n",
    "\n",
    "from elasticsearch import Elasticsearch\n",
    "es = Elasticsearch()"
   ]
  },
  {
   "cell_type": "code",
   "execution_count": null,
   "metadata": {},
   "outputs": [],
   "source": [
    "# インデックス作成用JSONの定義\n",
    "# 3.3節参照\n",
    "\n",
    "create_index = {\n",
    "    \"settings\": {\n",
    "        \"analysis\": {\n",
    "            \"filter\": {\n",
    "                \"synonyms_filter\": { # 同義語フィルターの定義\n",
    "                    \"type\": \"synonym\",\n",
    "                    \"synonyms\": [ #同義語リストの定義 (今は空の状態)\n",
    "                        ]\n",
    "                }\n",
    "            },\n",
    "            \"tokenizer\": {\n",
    "                \"kuromoji_w_dic\": { # カスタム形態素解析の定義\n",
    "                \"type\": \"kuromoji_tokenizer\", # kromoji_tokenizerをベースにする\n",
    "                    # ユーザー辞書としてmy_jisho.dicを追加  \n",
    "                    \"user_dictionary\": \"my_jisho.dic\" \n",
    "                }\n",
    "            },\n",
    "            \"analyzer\": {\n",
    "                \"jpn-search\": { # 検索用アナライザーの定義\n",
    "                    \"type\": \"custom\",\n",
    "                    \"char_filter\": [\n",
    "                        \"icu_normalizer\", # 文字単位の正規化\n",
    "                        \"kuromoji_iteration_mark\" # 繰り返し文字の正規化\n",
    "                    ],\n",
    "                    \"tokenizer\": \"kuromoji_w_dic\", # 辞書付きkoromoji形態素解析\n",
    "                    \"filter\": [\n",
    "                        \"synonyms_filter\", # 同義語展開\n",
    "                        \"kuromoji_baseform\", # 活用語の原型化\n",
    "                        \"kuromoji_part_of_speech\", # 不要品詞の除去\n",
    "                        \"ja_stop\", #不要単語の除去\n",
    "                        \"kuromoji_number\", # 数字の正規化\n",
    "                        \"kuromoji_stemmer\" #長音の正規化\n",
    "                    ]\n",
    "                },\n",
    "                \"jpn-index\": { # インデックス生成用アナライザーの定義\n",
    "                    \"type\": \"custom\",\n",
    "                    \"char_filter\": [\n",
    "                        \"icu_normalizer\", # 文字単位の正規化\n",
    "                        \"kuromoji_iteration_mark\" # 繰り返し文字の正規化\n",
    "                    ],\n",
    "                    \"tokenizer\": \"kuromoji_w_dic\", # 辞書付きkoromoji形態素解析\n",
    "                    \"filter\": [\n",
    "                        \"kuromoji_baseform\", # 活用語の原型化\n",
    "                        \"kuromoji_part_of_speech\", # 不要品詞の除去\n",
    "                        \"ja_stop\", #不要単語の除去\n",
    "                        \"kuromoji_number\", # 数字の正規化\n",
    "                        \"kuromoji_stemmer\" #長音の正規化\n",
    "                    ]\n",
    "                }\n",
    "            }\n",
    "        }\n",
    "    }\n",
    "}\n",
    "\n",
    "# 日本語用インデックス名の定義\n",
    "jp_index = 'jp_index'\n",
    "\n",
    "# 同じ名前のインデックスがすでにあれば削除する\n",
    "if es.indices.exists(index = jp_index):\n",
    "    es.indices.delete(index = jp_index)\n",
    "\n",
    "# インデックス jp_doc の生成\n",
    "es.indices.create(index = jp_index, body = create_index)"
   ]
  },
  {
   "cell_type": "code",
   "execution_count": null,
   "metadata": {},
   "outputs": [],
   "source": [
    "# mappingの設定\n",
    "# 3.3節参照\n",
    "\n",
    "mapping =  {\n",
    "    \"properties\": {\n",
    "        \"text\": {\n",
    "            \"type\": \"text\",\n",
    "            \"analyzer\": \"jpn-search\"\n",
    "        },\n",
    "        \"title\": {\n",
    "            \"type\": \"text\",\n",
    "            \"analyzer\": \"jpn-search\"\n",
    "        }\n",
    "\n",
    "    }\n",
    "}\n",
    "es.indices.put_mapping(index = jp_index,   body = mapping)"
   ]
  },
  {
   "cell_type": "code",
   "execution_count": null,
   "metadata": {},
   "outputs": [],
   "source": [
    "# 文書の登録\n",
    "# 3.3節参照\n",
    "\n",
    "for body in data_list:\n",
    "    # id と app_id の値を同じにして、類似検索をやりやすくする\n",
    "    es.index(index = jp_index, id = body['app_id'], body = body)"
   ]
  },
  {
   "cell_type": "markdown",
   "metadata": {},
   "source": [
    "## 類似検索の実行"
   ]
  },
  {
   "cell_type": "code",
   "execution_count": null,
   "metadata": {
    "scrolled": false
   },
   "outputs": [],
   "source": [
    "# リスト 3.5.2\n",
    "# 類似検索の実行\n",
    "\n",
    "# 検索条件の設定\n",
    "query = {\n",
    "    \"query\": {\n",
    "        \"more_like_this\": {\n",
    "            \"fields\": [\"text\"],\n",
    "            \"like\": [{\n",
    "                \"_index\": \"jp_index\",\n",
    "                \"_type\": \"_doc\",\n",
    "                \"_id\": \"3\" # _id = app_id = 3: 定山渓温泉\n",
    "            }]\n",
    "        }\n",
    "    }\n",
    "}\n",
    "\n",
    "# 検索実行\n",
    "res = es.search(index = jp_index, body = query)\n",
    "\n",
    "# 結果表示\n",
    "w1 = res['hits']['hits']\n",
    "\n",
    "for item in w1:\n",
    "    score = item['_score']\n",
    "    source = item['_source']\n",
    "    app_id = source['app_id']\n",
    "    title = source['title']\n",
    "    print(app_id, title, score)"
   ]
  },
  {
   "cell_type": "code",
   "execution_count": null,
   "metadata": {},
   "outputs": [],
   "source": []
  }
 ],
 "metadata": {
  "kernelspec": {
   "display_name": "Python 3",
   "language": "python",
   "name": "python3"
  },
  "language_info": {
   "codemirror_mode": {
    "name": "ipython",
    "version": 3
   },
   "file_extension": ".py",
   "mimetype": "text/x-python",
   "name": "python",
   "nbconvert_exporter": "python",
   "pygments_lexer": "ipython3",
   "version": "3.7.3"
  }
 },
 "nbformat": 4,
 "nbformat_minor": 2
}
