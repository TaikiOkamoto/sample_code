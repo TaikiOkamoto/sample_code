{
 "cells": [
  {
   "cell_type": "markdown",
   "metadata": {},
   "source": [
    "## 4.8 APIによるランキング学習"
   ]
  },
  {
   "cell_type": "code",
   "execution_count": null,
   "metadata": {},
   "outputs": [],
   "source": [
    "title_list = [\n",
    "'泉質', '温泉', '温泉法', '温泉分析書', '万座温泉',\n",
    "'伊東温泉', '吉野温泉', '塩江温泉', '塩津温泉',\n",
    "'大子温泉', \n",
    "# '山田温泉',  # 山田温泉はユニークに決まらないのでとりあえずはずしてあります。\n",
    "# 詳細は 2.1節を読んで下さい。\n",
    "'川棚温泉', '指宿温泉',\n",
    "'玉造温泉', '登別温泉', '花山温泉', '雲仙温泉',\n",
    "'鳴子温泉', '鳴子温泉郷', '大歩危温泉'\n",
    "]"
   ]
  },
  {
   "cell_type": "markdown",
   "metadata": {},
   "source": [
    "### Wikipediaからテキストの一覧を作成"
   ]
  },
  {
   "cell_type": "code",
   "execution_count": null,
   "metadata": {},
   "outputs": [],
   "source": [
    "# 必要ライブラリの導入\n",
    "!pip install wikipedia | tail -n 1"
   ]
  },
  {
   "cell_type": "code",
   "execution_count": null,
   "metadata": {},
   "outputs": [],
   "source": [
    "data_list = []\n",
    "\n",
    "import wikipedia\n",
    "wikipedia.set_lang(\"ja\")\n",
    "# wikipediaの記事の読み取り\n",
    "\n",
    "for index, title in enumerate(title_list):\n",
    "    print(index+1, title)\n",
    "    text = wikipedia.page(title,auto_suggest=False).content\n",
    "    item = {\n",
    "        'app_id': index + 1,\n",
    "        'title': title,\n",
    "        'text': text\n",
    "    }\n",
    "    data_list.append(item)"
   ]
  },
  {
   "cell_type": "markdown",
   "metadata": {},
   "source": [
    "## Discoveryにデータ投入"
   ]
  },
  {
   "cell_type": "code",
   "execution_count": null,
   "metadata": {},
   "outputs": [],
   "source": [
    "# 必要ライブラリの導入\n",
    "!pip install ibm_watson | tail -n 1"
   ]
  },
  {
   "cell_type": "code",
   "execution_count": null,
   "metadata": {},
   "outputs": [],
   "source": [
    "# 資格情報の設定 (個別に設定します)\n",
    "\n",
    "discovery_credentials = {\n",
    "  \"apikey\": \"xxxx\",\n",
    "  \"iam_apikey_description\": \"xxxx\",\n",
    "  \"iam_apikey_name\": \"xxxx\",\n",
    "  \"iam_role_crn\": \"xxxx\",\n",
    "  \"iam_serviceid_crn\": \"xxxx\",\n",
    "  \"url\": \"xxxx\"\n",
    "}"
   ]
  },
  {
   "cell_type": "code",
   "execution_count": null,
   "metadata": {},
   "outputs": [],
   "source": [
    "# Discovery APIの初期化\n",
    "\n",
    "import json\n",
    "import os\n",
    "from ibm_watson import DiscoveryV1\n",
    "from ibm_cloud_sdk_core.authenticators import IAMAuthenticator\n",
    "\n",
    "version = '2019-04-30'\n",
    "\n",
    "authenticator = IAMAuthenticator(discovery_credentials['apikey'])\n",
    "discovery = DiscoveryV1(\n",
    "    version=version,\n",
    "    authenticator=authenticator\n",
    ")\n",
    "discovery.set_service_url(discovery_credentials['url'])"
   ]
  },
  {
   "cell_type": "code",
   "execution_count": null,
   "metadata": {},
   "outputs": [],
   "source": [
    "# environment_id、collection_id、configuration_id の取得\n",
    "# すでにUIで1つのprivate collectionが作成済みであることが前提\n",
    "\n",
    "# environment id の取得\n",
    "environment_id = discovery.list_environments().get_result()['environments'][1]['environment_id']\n",
    "print('environment_id: ', environment_id)\n",
    "\n",
    "# collection id の取得\n",
    "collection_id = discovery.list_collections(environment_id).get_result()['collections'][0]['collection_id']\n",
    "print('collection_id: ' , collection_id)\n",
    "\n",
    "# configuration_idの取得\n",
    "configuration_id = discovery.list_configurations(environment_id).get_result()['configurations'][0]['configuration_id']\n",
    "print('configuration_id: ', configuration_id)"
   ]
  },
  {
   "cell_type": "markdown",
   "metadata": {},
   "source": [
    "## 文書のロードと削除用関数 (4.6.2節)"
   ]
  },
  {
   "cell_type": "code",
   "execution_count": null,
   "metadata": {},
   "outputs": [],
   "source": [
    "# 文書ロード関数\n",
    "# collection_id: 対象コレクション\n",
    "# sample_data: 書き込み対象テキスト (json形式の配列)\n",
    "# key_name: 文書のユニークキー名称\n",
    "\n",
    "def load_text( collection_id, sample_data, key_name):\n",
    "    for item in sample_data:\n",
    "        \n",
    "        # itemごとにワークのjsonファイルを作成\n",
    "        print(item)\n",
    "        key = item.get(key_name)\n",
    "        filename = str(key) + '.json'\n",
    "        f = open(filename, 'w')\n",
    "        json.dump(item, f)\n",
    "        f.close()\n",
    "        \n",
    "        # 書き込み可能かのチェック\n",
    "        collection = discovery.get_collection(environment_id, collection_id).get_result()\n",
    "        proc_docs = collection['document_counts']['processing']\n",
    "        while True:\n",
    "            if proc_docs < 20:\n",
    "                break\n",
    "            print('busy. waiting..')\n",
    "            time.sleep(10)\n",
    "            collection = discovery.get_collection(environment_id, collection_id)\n",
    "            proc_docs = collection['document_counts']['processing']\n",
    "\n",
    "        # jsonファイル名を引数にDiscoveryへデータロード\n",
    "        with open(filename) as f:\n",
    "            add_doc = discovery.add_document(environment_id, collection_id, file = f)\n",
    "        os.remove(filename)"
   ]
  },
  {
   "cell_type": "code",
   "execution_count": null,
   "metadata": {},
   "outputs": [],
   "source": [
    "# 特定のコレクションの全文書を削除する関数\n",
    "# collection_id: 対象コレクション\n",
    "\n",
    "def delete_all_docs(collection_id):\n",
    "\n",
    "    # 文書件数取得\n",
    "    collection = discovery.get_collection(environment_id, collection_id).get_result()\n",
    "    doc_count = collection['document_counts']['available']\n",
    "\n",
    "    results = discovery.query(environment_id, collection_id, return_fields='id', count=doc_count).get_result()[\"results\"]\n",
    "    ids = [item[\"id\"] for item in results]\n",
    "\n",
    "    for id in ids:\n",
    "        print('deleting doc: id =' + id)\n",
    "        discovery.delete_document(environment_id, collection_id, id)"
   ]
  },
  {
   "cell_type": "code",
   "execution_count": null,
   "metadata": {},
   "outputs": [],
   "source": [
    "# 既存文書の全削除\n",
    "delete_all_docs(collection_id)"
   ]
  },
  {
   "cell_type": "code",
   "execution_count": null,
   "metadata": {
    "scrolled": true
   },
   "outputs": [],
   "source": [
    "# wikipedia文書のロード\n",
    "load_text(collection_id, data_list, 'app_id')"
   ]
  },
  {
   "cell_type": "code",
   "execution_count": null,
   "metadata": {},
   "outputs": [],
   "source": [
    "# リスト4.8.1 \n",
    "\n",
    "# トレーニングデータの全削除\n",
    "discovery.delete_all_training_data(environment_id, collection_id)"
   ]
  },
  {
   "cell_type": "markdown",
   "metadata": {},
   "source": [
    "## 自然言語問い合わせ"
   ]
  },
  {
   "cell_type": "code",
   "execution_count": null,
   "metadata": {},
   "outputs": [],
   "source": [
    "# リスト4.8.2\n",
    "\n",
    "# 自然言語問い合わせ\n",
    "query_text = '温泉の特徴や泉質などの分類'\n",
    "return_fields = 'app_id,title'\n",
    "\n",
    "query_results = discovery.query(environment_id, collection_id, \n",
    "    natural_language_query=query_text,\n",
    "    return_fields=return_fields).get_result()\n",
    "res2 = query_results['results']"
   ]
  },
  {
   "cell_type": "markdown",
   "metadata": {},
   "source": [
    "## ランキング学習"
   ]
  },
  {
   "cell_type": "code",
   "execution_count": null,
   "metadata": {},
   "outputs": [],
   "source": [
    "# リスト4.8.3\n",
    "\n",
    "# 問い合わせ結果表示 & examples配列の組立て\n",
    "examples = []\n",
    "\n",
    "for item in res2 :\n",
    "    document_id = item['id']\n",
    "    metadata = item['result_metadata']\n",
    "    score = metadata['score']\n",
    "    confidence = metadata['confidence']\n",
    "    app_id = item['app_id']\n",
    "    title = item['title']\n",
    "    example = {\n",
    "        'document_id': document_id,\n",
    "         'cross_reference': app_id,\n",
    "        'relevance': 0\n",
    "    }\n",
    "    print(document_id, title, app_id, score, confidence )\n",
    "    examples.append(example)"
   ]
  },
  {
   "cell_type": "code",
   "execution_count": null,
   "metadata": {},
   "outputs": [],
   "source": [
    "# リスト4.8.4 \n",
    "\n",
    "# examples配列の完成\n",
    "examples[0]['relevance'] = 10\n",
    "examples[1]['relevance'] = 10\n",
    "\n",
    "for example in examples:\n",
    "    print(example)"
   ]
  },
  {
   "cell_type": "code",
   "execution_count": null,
   "metadata": {},
   "outputs": [],
   "source": [
    "# リスト 4.8.5\n",
    "\n",
    "# ランキング学習の実施\n",
    "train_results = discovery.add_training_data(environment_id, collection_id, \n",
    "    natural_language_query=query_text, examples=examples).get_result()"
   ]
  },
  {
   "cell_type": "code",
   "execution_count": null,
   "metadata": {},
   "outputs": [],
   "source": [
    "# リスト 4.8.6\n",
    "\n",
    "# ランキング学習結果の確認\n",
    "res2 = train_results['examples']\n",
    "for item in res2:\n",
    "    print(item)"
   ]
  },
  {
   "cell_type": "code",
   "execution_count": null,
   "metadata": {},
   "outputs": [],
   "source": []
  }
 ],
 "metadata": {
  "kernelspec": {
   "display_name": "Python 3",
   "language": "python",
   "name": "python3"
  },
  "language_info": {
   "codemirror_mode": {
    "name": "ipython",
    "version": 3
   },
   "file_extension": ".py",
   "mimetype": "text/x-python",
   "name": "python",
   "nbconvert_exporter": "python",
   "pygments_lexer": "ipython3",
   "version": "3.7.3"
  }
 },
 "nbformat": 4,
 "nbformat_minor": 2
}
