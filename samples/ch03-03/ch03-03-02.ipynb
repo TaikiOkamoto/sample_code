{
 "cells": [
  {
   "cell_type": "markdown",
   "metadata": {},
   "source": [
    "# Elasticsearch search関数による検索\n",
    "3.2節で説明したElasticsearch サーバーの起動及びサンプル文書の投入が済んでいることが前提です。\n"
   ]
  },
  {
   "cell_type": "code",
   "execution_count": null,
   "metadata": {},
   "outputs": [],
   "source": [
    "# Elasticsearchインスタンスの生成\n",
    "\n",
    "from elasticsearch import Elasticsearch\n",
    "es = Elasticsearch()"
   ]
  },
  {
   "cell_type": "code",
   "execution_count": null,
   "metadata": {},
   "outputs": [],
   "source": [
    "# リスト 3.3.2 search関数による検索\n",
    "\n",
    "# 検索用JSONの設定\n",
    "body = {\n",
    "  \"query\": {\n",
    "    \"match\": {\n",
    "      \"title\": \"Tanaka\"\n",
    "    }\n",
    "  }\n",
    "}\n",
    "\n",
    "# 検索実行\n",
    "res = es.search(index = \"names\", body = body)\n",
    "\n",
    "# 結果表示\n",
    "import json\n",
    "print(json.dumps(res, indent=2, ensure_ascii=False))"
   ]
  },
  {
   "cell_type": "code",
   "execution_count": null,
   "metadata": {},
   "outputs": [],
   "source": []
  }
 ],
 "metadata": {
  "kernelspec": {
   "display_name": "Python 3",
   "language": "python",
   "name": "python3"
  },
  "language_info": {
   "codemirror_mode": {
    "name": "ipython",
    "version": 3
   },
   "file_extension": ".py",
   "mimetype": "text/x-python",
   "name": "python",
   "nbconvert_exporter": "python",
   "pygments_lexer": "ipython3",
   "version": "3.7.3"
  }
 },
 "nbformat": 4,
 "nbformat_minor": 2
}
