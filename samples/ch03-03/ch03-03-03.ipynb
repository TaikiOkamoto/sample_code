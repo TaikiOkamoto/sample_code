{
 "cells": [
  {
   "cell_type": "markdown",
   "metadata": {},
   "source": [
    "# Elasticsearch 日本語用インデックスの登録と分析\n",
    "3.2節で説明したElasticsearch サーバーの起動が前提です。"
   ]
  },
  {
   "cell_type": "code",
   "execution_count": null,
   "metadata": {},
   "outputs": [],
   "source": [
    "# Elasticsearchインスタンスの生成\n",
    "\n",
    "from elasticsearch import Elasticsearch\n",
    "es = Elasticsearch()"
   ]
  },
  {
   "cell_type": "code",
   "execution_count": null,
   "metadata": {},
   "outputs": [],
   "source": [
    "# リスト3.3.3 日本語用インデックスの登録\n",
    "# インデックス作成用JSONの定義\n",
    "create_index = {\n",
    "    \"settings\": {\n",
    "        \"analysis\": {\n",
    "            \"filter\": {\n",
    "                \"synonyms_filter\": { # 同義語フィルターの定義\n",
    "                    \"type\": \"synonym\",\n",
    "                    \"synonyms\": [ #同義語リストの定義 (今は空の状態)\n",
    "                        ]\n",
    "                }\n",
    "            },\n",
    "            \"tokenizer\": {\n",
    "                \"kuromoji_w_dic\": { # カスタム形態素解析の定義\n",
    "                \"type\": \"kuromoji_tokenizer\", # kromoji_tokenizerをベースにする\n",
    "                    # ユーザー辞書としてmy_jisho.dicを追加  \n",
    "                    \"user_dictionary\": \"my_jisho.dic\" \n",
    "                }\n",
    "            },\n",
    "            \"analyzer\": {\n",
    "                \"jpn-search\": { # 検索用アナライザの定義\n",
    "                    \"type\": \"custom\",\n",
    "                    \"char_filter\": [\n",
    "                        \"icu_normalizer\", # 文字単位の正規化\n",
    "                        \"kuromoji_iteration_mark\" # 繰り返し文字の正規化\n",
    "                    ],\n",
    "                    \"tokenizer\": \"kuromoji_w_dic\", # 辞書付きkuromoji形態素解析\n",
    "                    \"filter\": [\n",
    "                        \"synonyms_filter\", # 同義語展開\n",
    "                        \"kuromoji_baseform\", # 活用語の原型化\n",
    "                        \"kuromoji_part_of_speech\", # 不要品詞の除去\n",
    "                        \"ja_stop\", #不要単語の除去\n",
    "                        \"kuromoji_number\", # 数字の正規化\n",
    "                        \"kuromoji_stemmer\" #長音の正規化\n",
    "                    ]\n",
    "                },\n",
    "                \"jpn-index\": { # インデックス生成用アナライザの定義\n",
    "                    \"type\": \"custom\",\n",
    "                    \"char_filter\": [\n",
    "                        \"icu_normalizer\", # 文字単位の正規化\n",
    "                        \"kuromoji_iteration_mark\" # 繰り返し文字の正規化\n",
    "                    ],\n",
    "                    \"tokenizer\": \"kuromoji_w_dic\", # 辞書付きkuromoji形態素解析\n",
    "                    \"filter\": [\n",
    "                        \"kuromoji_baseform\", # 活用語の原型化\n",
    "                        \"kuromoji_part_of_speech\", # 不要品詞の除去\n",
    "                        \"ja_stop\", #不要単語の除去\n",
    "                        \"kuromoji_number\", # 数字の正規化\n",
    "                        \"kuromoji_stemmer\" #長音の正規化\n",
    "                    ]\n",
    "                }\n",
    "            }\n",
    "        }\n",
    "    }\n",
    "}\n",
    "\n",
    "# 日本語用インデックス名の定義\n",
    "jp_index = 'jp_index'\n",
    "\n",
    "# 同じ名前のインデックスがすでにあれば削除する\n",
    "if es.indices.exists(index = jp_index):\n",
    "    es.indices.delete(index = jp_index)\n",
    "\n",
    "# インデックス jp_doc の生成\n",
    "es.indices.create(index = jp_index, body = create_index)"
   ]
  },
  {
   "cell_type": "code",
   "execution_count": null,
   "metadata": {},
   "outputs": [],
   "source": [
    "# リスト 3.3.4 分析結果表示用関数 analyse_jp_test\n",
    "\n",
    "def analyse_jp_text(text):\n",
    "    body = {\"analyzer\": \"jpn-search\", \"text\": text}\n",
    "    ret = es.indices.analyze(index = jp_index, body = body)\n",
    "    tokens = ret['tokens']\n",
    "    tokens2 = [token['token'] for token in tokens]\n",
    "    return tokens2\n",
    "\n",
    "# analyse_jp_test 関数のテスト\n",
    "print(analyse_jp_text('関数のテスト'))"
   ]
  },
  {
   "cell_type": "code",
   "execution_count": null,
   "metadata": {},
   "outputs": [],
   "source": [
    "# リスト 3.3.5 icu_normalizerのテスト\n",
    "\n",
    "print(analyse_jp_text('ｱﾊﾟｰﾄ'))\n",
    "print(analyse_jp_text('㌀'))"
   ]
  },
  {
   "cell_type": "code",
   "execution_count": null,
   "metadata": {},
   "outputs": [],
   "source": [
    "# リスト 3.3.6 kuromoji_iteration_markのテスト\n",
    "\n",
    "print(analyse_jp_text('時々'))\n",
    "print(analyse_jp_text('こゝろ'))\n",
    "print(analyse_jp_text('学問のすゝめ'))"
   ]
  },
  {
   "cell_type": "code",
   "execution_count": null,
   "metadata": {},
   "outputs": [],
   "source": [
    "# リスト 3.3.7 kuromoji_baseformのテスト\n",
    "\n",
    "print(analyse_jp_text('昨日、飲みに行った。'))"
   ]
  },
  {
   "cell_type": "code",
   "execution_count": null,
   "metadata": {},
   "outputs": [],
   "source": [
    "# リスト 3.3.8 kuromoji_part_of_speechのテスト\n",
    "\n",
    "print(analyse_jp_text('この店は寿司がおいしい。'))"
   ]
  },
  {
   "cell_type": "code",
   "execution_count": null,
   "metadata": {},
   "outputs": [],
   "source": [
    "#  リスト 3.3.9 ja_stopのテスト\n",
    "\n",
    "print(analyse_jp_text('しかし、これでいいのか迷ってしまう。'))"
   ]
  },
  {
   "cell_type": "code",
   "execution_count": null,
   "metadata": {},
   "outputs": [],
   "source": [
    "# リスト 3.3.10 kuromoji_numberのテスト\n",
    "\n",
    "print(analyse_jp_text('一億二十三'))"
   ]
  },
  {
   "cell_type": "code",
   "execution_count": null,
   "metadata": {},
   "outputs": [],
   "source": [
    "# リスト 3.3.11 kuromoji_stemmerのテスト\n",
    "\n",
    "print(analyse_jp_text('コンピューターを操作する'))"
   ]
  },
  {
   "cell_type": "code",
   "execution_count": null,
   "metadata": {},
   "outputs": [],
   "source": []
  }
 ],
 "metadata": {
  "kernelspec": {
   "display_name": "Python 3",
   "language": "python",
   "name": "python3"
  },
  "language_info": {
   "codemirror_mode": {
    "name": "ipython",
    "version": 3
   },
   "file_extension": ".py",
   "mimetype": "text/x-python",
   "name": "python",
   "nbconvert_exporter": "python",
   "pygments_lexer": "ipython3",
   "version": "3.7.3"
  }
 },
 "nbformat": 4,
 "nbformat_minor": 2
}
