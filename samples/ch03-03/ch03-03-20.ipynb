{
 "cells": [
  {
   "cell_type": "markdown",
   "metadata": {},
   "source": [
    "# Elasticsearch 高度な日本語検索(辞書)\n",
    "3.2節で説明したElasticsearch サーバーの起動が前提です。  \n",
    "更に書籍p.103記載の辞書登録手順も済んでいることが前提です。"
   ]
  },
  {
   "cell_type": "code",
   "execution_count": null,
   "metadata": {},
   "outputs": [],
   "source": [
    "# Elasticsearchインスタンスの生成\n",
    "\n",
    "from elasticsearch import Elasticsearch\n",
    "es = Elasticsearch()"
   ]
  },
  {
   "cell_type": "code",
   "execution_count": null,
   "metadata": {
    "scrolled": false
   },
   "outputs": [],
   "source": [
    "# インデックス作成用JSONの定義\n",
    "\n",
    "create_index = {\n",
    "    \"settings\": {\n",
    "        \"analysis\": {\n",
    "            \"filter\": {\n",
    "                \"synonyms_filter\": { # 同義語フィルターの定義\n",
    "                    \"type\": \"synonym\",\n",
    "                    \"synonyms\": [ #同義語リストの定義\n",
    "                            \"すし,スシ,鮨,寿司\"\n",
    "                        ]\n",
    "                }\n",
    "            },\n",
    "            \"tokenizer\": {\n",
    "                \"kuromoji_w_dic\": { # カスタム形態素解析の定義\n",
    "                \"type\": \"kuromoji_tokenizer\", # kromoji_tokenizerをベースにする\n",
    "                    # ユーザー辞書としてmy_jisho.dicを追加  \n",
    "                    \"user_dictionary\": \"my_jisho.dic\" \n",
    "                }\n",
    "            },\n",
    "            \"analyzer\": {\n",
    "                \"jpn-search\": { # 検索用アナライザーの定義\n",
    "                    \"type\": \"custom\",\n",
    "                    \"char_filter\": [\n",
    "                        \"icu_normalizer\", # 文字単位の正規化\n",
    "                        \"kuromoji_iteration_mark\" # 繰り返し文字の正規化\n",
    "                    ],\n",
    "                    \"tokenizer\": \"kuromoji_w_dic\", # 辞書付きkoromoji形態素解析\n",
    "                    \"filter\": [\n",
    "                        \"synonyms_filter\", # 同義語展開\n",
    "                        \"kuromoji_baseform\", # 活用語の原型化\n",
    "                        \"kuromoji_part_of_speech\", # 不要品詞の除去\n",
    "                        \"ja_stop\", #不要単語の除去\n",
    "                        \"kuromoji_number\", # 数字の正規化\n",
    "                        \"kuromoji_stemmer\" #長音の正規化\n",
    "                    ]\n",
    "                },\n",
    "                \"jpn-index\": { # インデックス生成用アナライザーの定義\n",
    "                    \"type\": \"custom\",\n",
    "                    \"char_filter\": [\n",
    "                        \"icu_normalizer\", # 文字単位の正規化\n",
    "                        \"kuromoji_iteration_mark\" # 繰り返し文字の正規化\n",
    "                    ],\n",
    "                    \"tokenizer\": \"kuromoji_w_dic\", # 辞書付きkoromoji形態素解析\n",
    "                    \"filter\": [\n",
    "                        \"kuromoji_baseform\", # 活用語の原型化\n",
    "                        \"kuromoji_part_of_speech\", # 不要品詞の除去\n",
    "                        \"ja_stop\", #不要単語の除去\n",
    "                        \"kuromoji_number\", # 数字の正規化\n",
    "                        \"kuromoji_stemmer\" #長音の正規化\n",
    "                    ]\n",
    "                }\n",
    "            }\n",
    "        }\n",
    "    }\n",
    "}\n",
    "\n",
    "# 日本語用インデックス名の定義\n",
    "jp_index = 'jp_index'\n",
    "\n",
    "# 同じ名前のインデックスがすでにあれば削除する\n",
    "if es.indices.exists(index = jp_index):\n",
    "    es.indices.delete(index = jp_index)\n",
    "\n",
    "# インデックス jp_doc の生成\n",
    "es.indices.create(index = jp_index, body = create_index)"
   ]
  },
  {
   "cell_type": "code",
   "execution_count": null,
   "metadata": {},
   "outputs": [],
   "source": [
    "# 分析結果表示用関数\n",
    "\n",
    "def analyse_jp_text(text):\n",
    "    body = {\"analyzer\": \"jpn-search\", \"text\": text}\n",
    "    ret = es.indices.analyze(index = jp_index, body = body)\n",
    "    tokens = ret['tokens']\n",
    "    tokens2 = [token['token'] for token in tokens]\n",
    "    return tokens2\n",
    "\n",
    "# 関数のテスト\n",
    "print(analyse_jp_text('関数のテスト'))"
   ]
  },
  {
   "cell_type": "code",
   "execution_count": null,
   "metadata": {},
   "outputs": [],
   "source": [
    "#  リスト3.3.20 辞書登録後の「新幹線はやぶさ」と「はやぶさ」の分析結果\n",
    "\n",
    "print(analyse_jp_text('新幹線はやぶさ'))\n",
    "print(analyse_jp_text('はやぶさ'))"
   ]
  },
  {
   "cell_type": "code",
   "execution_count": null,
   "metadata": {},
   "outputs": [],
   "source": [
    "# マッピング定義\n",
    "\n",
    "mapping =  {\n",
    "    \"properties\": {\n",
    "        \"content\": {\n",
    "            \"type\": \"text\",\n",
    "            # インデックス生成時アナライザの設定\n",
    "            \"analyzer\": \"jpn-index\",\n",
    "            # 検索時アナライザの設定\n",
    "            \"search_analyzer\": \"jpn-search\"\n",
    "        }\n",
    "    }\n",
    "}\n",
    "es.indices.put_mapping(index = jp_index,   body = mapping)"
   ]
  },
  {
   "cell_type": "code",
   "execution_count": null,
   "metadata": {},
   "outputs": [],
   "source": [
    "# 日本語文書の投入\n",
    "\n",
    "bodys = [\n",
    "    { \"title\": \"山田太郎の紹介\",\n",
    "    \"name\": {\n",
    "        \"last\": \"山田\",\n",
    "        \"first\": \"太郎\"\n",
    "    },\n",
    "    \"content\": \"スシが好物です。犬も好きです。\"},\n",
    "    { \"title\": \"田中次郎の紹介\",\n",
    "    \"name\": {\n",
    "        \"last\": \"田中\",\n",
    "        \"first\": \"次郎\"\n",
    "    },\n",
    "    \"content\": \"そばがだいすきです。ねこも大好きです。\"},\n",
    "    { \"title\": \"渡辺三郎の紹介\",\n",
    "    \"name\": {\n",
    "        \"last\": \"渡辺\",\n",
    "        \"first\": \"三郎\"\n",
    "    },\n",
    "    \"content\": \"天ぷらが好きです。新幹線はやぶさのファンです。\"}\n",
    "]\n",
    "\n",
    "for i, body in enumerate(bodys):\n",
    "    es.index(index = jp_index, id = i, body = body)"
   ]
  },
  {
   "cell_type": "code",
   "execution_count": null,
   "metadata": {},
   "outputs": [],
   "source": [
    "# リスト 3.3.21 辞書登録後にキーワード「はやぶさ」で検索\n",
    "\n",
    "# 検索条件の設定\n",
    "query = {\n",
    "    \"query\": {\n",
    "        \"match\": {\n",
    "            \"content\": 'はやぶさ'\n",
    "        }\n",
    "    }\n",
    "}\n",
    "\n",
    "# 検索実行\n",
    "res = es.search(index = jp_index, body = query)\n",
    "\n",
    "# 結果表示\n",
    "import json\n",
    "print(json.dumps(res, indent=2, ensure_ascii=False))"
   ]
  },
  {
   "cell_type": "code",
   "execution_count": null,
   "metadata": {},
   "outputs": [],
   "source": []
  }
 ],
 "metadata": {
  "kernelspec": {
   "display_name": "Python 3",
   "language": "python",
   "name": "python3"
  },
  "language_info": {
   "codemirror_mode": {
    "name": "ipython",
    "version": 3
   },
   "file_extension": ".py",
   "mimetype": "text/x-python",
   "name": "python",
   "nbconvert_exporter": "python",
   "pygments_lexer": "ipython3",
   "version": "3.7.3"
  }
 },
 "nbformat": 4,
 "nbformat_minor": 2
}
