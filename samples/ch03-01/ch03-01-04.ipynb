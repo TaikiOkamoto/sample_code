{
 "cells": [
  {
   "cell_type": "markdown",
   "metadata": {},
   "source": [
    "### 3.1.3 naruhodoを使った視覚的表示"
   ]
  },
  {
   "cell_type": "code",
   "execution_count": null,
   "metadata": {},
   "outputs": [],
   "source": [
    "# リスト 3.1.4\n",
    "# naruhodoを使った視覚的表示その1 \n",
    "\n",
    "from naruhodo import parser\n",
    "dp = parser(lang=\"ja\", gtype=\"d\")\n",
    "dp.add('今日はいい天気ですね')\n",
    "dp.show()"
   ]
  },
  {
   "cell_type": "code",
   "execution_count": null,
   "metadata": {},
   "outputs": [],
   "source": [
    "# リスト 3.1.5\n",
    "# naruhodoを使った視覚的表示その2\n",
    "\n",
    "dp = parser(lang=\"ja\", gtype=\"d\")\n",
    "dp.add('一郎は二郎が描いた絵を三郎に贈った。')\n",
    "dp.show()"
   ]
  },
  {
   "cell_type": "code",
   "execution_count": null,
   "metadata": {},
   "outputs": [],
   "source": [
    "# リスト 3.1.6\n",
    "# naruhodoを使った視覚的表示その2\n",
    "\n",
    "# グラフの初期化\n",
    "dp.reset()\n",
    "#　文を順番に沿って追加\n",
    "dp.add(\"田中一郎は田中次郎が描いた絵を田中三郎に贈った。\")\n",
    "dp.add(\"田中三郎はこの絵を持って市場に行った。\")\n",
    "dp.add(\"市場には人がいっぱいだ。\")\n",
    "#　図を表示\n",
    "dp.show()"
   ]
  },
  {
   "cell_type": "code",
   "execution_count": null,
   "metadata": {},
   "outputs": [],
   "source": []
  }
 ],
 "metadata": {
  "kernelspec": {
   "display_name": "Python 3",
   "language": "python",
   "name": "python3"
  },
  "language_info": {
   "codemirror_mode": {
    "name": "ipython",
    "version": 3
   },
   "file_extension": ".py",
   "mimetype": "text/x-python",
   "name": "python",
   "nbconvert_exporter": "python",
   "pygments_lexer": "ipython3",
   "version": "3.7.3"
  }
 },
 "nbformat": 4,
 "nbformat_minor": 2
}
