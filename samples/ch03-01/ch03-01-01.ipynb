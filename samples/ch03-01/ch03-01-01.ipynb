{
 "cells": [
  {
   "cell_type": "markdown",
   "metadata": {},
   "source": [
    "### 3.1.2 Cabochaの利用"
   ]
  },
  {
   "cell_type": "code",
   "execution_count": null,
   "metadata": {},
   "outputs": [],
   "source": [
    "# リスト 3.1.1 \n",
    "#  PythonからCabchaの呼び出し\n",
    "\n",
    "# Cabochaの利用 (Tokenの取得)\n",
    "from cabocha.analyzer import CaboChaAnalyzer\n",
    "analyzer = CaboChaAnalyzer()\n",
    "tree = analyzer.parse('今日はいい天気ですね')\n",
    "for chunk in tree:\n",
    "    for token in chunk:\n",
    "        print(token)"
   ]
  },
  {
   "cell_type": "code",
   "execution_count": null,
   "metadata": {},
   "outputs": [],
   "source": [
    "# リスト 3.1.2\n",
    "# Cabochaの利用 (チャンクを先頭からたどる)\n",
    "\n",
    "chunks = tree.chunks\n",
    "start_chunk = chunks[0]\n",
    "print('開始チャンク: ', start_chunk)\n",
    "next_chunk = start_chunk.next_link\n",
    "print('次のチャンク: ', next_chunk)"
   ]
  },
  {
   "cell_type": "code",
   "execution_count": null,
   "metadata": {},
   "outputs": [],
   "source": [
    "# リスト 3.1.3\n",
    "# Cabochaの利用 (チャンクを最後からたどる)\n",
    "\n",
    "end_chunk = chunks[-1]\n",
    "print('最終チャンク: ', end_chunk)\n",
    "prev_chunk = end_chunk.prev_links\n",
    "print('一つ前のチャンク: ', prev_chunk)"
   ]
  },
  {
   "cell_type": "code",
   "execution_count": null,
   "metadata": {},
   "outputs": [],
   "source": []
  }
 ],
 "metadata": {
  "kernelspec": {
   "display_name": "Python 3",
   "language": "python",
   "name": "python3"
  },
  "language_info": {
   "codemirror_mode": {
    "name": "ipython",
    "version": 3
   },
   "file_extension": ".py",
   "mimetype": "text/x-python",
   "name": "python",
   "nbconvert_exporter": "python",
   "pygments_lexer": "ipython3",
   "version": "3.7.3"
  }
 },
 "nbformat": 4,
 "nbformat_minor": 2
}
