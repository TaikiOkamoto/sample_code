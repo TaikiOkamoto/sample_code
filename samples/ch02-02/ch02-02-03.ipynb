{
 "cells": [
  {
   "cell_type": "markdown",
   "metadata": {},
   "source": [
    "## 2.2.5 辞書の利用"
   ]
  },
  {
   "cell_type": "code",
   "execution_count": null,
   "metadata": {},
   "outputs": [],
   "source": [
    "# リスト 2.2.3 MeCab 拡張辞書利用前\n",
    "\n",
    "# 辞書拡張前の結果\n",
    "import MeCab\n",
    "\n",
    "# 解析対象文\n",
    "text = '令和元年6月1日に特急はくたかに乗ります。'\n",
    "\n",
    "# 解析実行\n",
    "tagger1 = MeCab.Tagger()\n",
    "print(tagger1.parse(text))"
   ]
  },
  {
   "cell_type": "code",
   "execution_count": null,
   "metadata": {},
   "outputs": [],
   "source": [
    "# リスト2.2.4 MeCab拡張辞書利用後\n",
    "\n",
    "# 辞書拡張後の結果\n",
    "import MeCab\n",
    "\n",
    "# 解析対象文\n",
    "text = '令和元年6月1日に特急はくたかに乗ります。'\n",
    "\n",
    "# 解析実行\n",
    "tagger2 = MeCab.Tagger('-d /usr/local/lib/mecab/dic/mecab-ipadic-neologd')\n",
    "#chasen = MeCab.Tagger()\n",
    "print(tagger2.parse(text))"
   ]
  },
  {
   "cell_type": "code",
   "execution_count": null,
   "metadata": {},
   "outputs": [],
   "source": []
  }
 ],
 "metadata": {
  "kernelspec": {
   "display_name": "Python 3",
   "language": "python",
   "name": "python3"
  },
  "language_info": {
   "codemirror_mode": {
    "name": "ipython",
    "version": 3
   },
   "file_extension": ".py",
   "mimetype": "text/x-python",
   "name": "python",
   "nbconvert_exporter": "python",
   "pygments_lexer": "ipython3",
   "version": "3.7.3"
  }
 },
 "nbformat": 4,
 "nbformat_minor": 2
}
