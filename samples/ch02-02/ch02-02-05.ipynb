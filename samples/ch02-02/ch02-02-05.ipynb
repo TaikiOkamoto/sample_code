{
 "cells": [
  {
   "cell_type": "markdown",
   "metadata": {},
   "source": [
    "## 2.2.5 辞書との連携"
   ]
  },
  {
   "cell_type": "code",
   "execution_count": null,
   "metadata": {},
   "outputs": [],
   "source": [
    "# リスト 2.2.5  Janomeカスタム辞書利用前\n",
    "\n",
    "# Janome サンプルコード\n",
    "from janome.tokenizer import Tokenizer\n",
    "t1 = Tokenizer()\n",
    "\n",
    "# 解析対象文\n",
    "text = '令和元年6月1日に特急はくたかに乗ります。'\n",
    "\n",
    "for token in t1.tokenize(text):\n",
    "    print(token)"
   ]
  },
  {
   "cell_type": "code",
   "execution_count": null,
   "metadata": {},
   "outputs": [],
   "source": [
    "# リスト 2.2.7  Jamomeカスタム辞書利用後\n",
    "\n",
    "# Janome サンプルコード\n",
    "from janome.tokenizer import Tokenizer\n",
    "t2 = Tokenizer('userdict.csv')\n",
    "\n",
    "# 解析対象文\n",
    "text = '令和元年6月1日に特急はくたかに乗ります。'\n",
    "\n",
    "for token in t2.tokenize(text):\n",
    "    print(token)"
   ]
  },
  {
   "cell_type": "code",
   "execution_count": null,
   "metadata": {},
   "outputs": [],
   "source": []
  }
 ],
 "metadata": {
  "kernelspec": {
   "display_name": "Python 3",
   "language": "python",
   "name": "python3"
  },
  "language_info": {
   "codemirror_mode": {
    "name": "ipython",
    "version": 3
   },
   "file_extension": ".py",
   "mimetype": "text/x-python",
   "name": "python",
   "nbconvert_exporter": "python",
   "pygments_lexer": "ipython3",
   "version": "3.7.3"
  }
 },
 "nbformat": 4,
 "nbformat_minor": 2
}
