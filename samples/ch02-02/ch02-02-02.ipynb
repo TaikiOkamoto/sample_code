{
 "cells": [
  {
   "cell_type": "markdown",
   "metadata": {},
   "source": [
    "## 2.2.4 Janomeの利用"
   ]
  },
  {
   "cell_type": "code",
   "execution_count": null,
   "metadata": {},
   "outputs": [],
   "source": [
    "# リスト 2.2.2 Janome サンプルコード\n",
    "\n",
    "# 解析対象文\n",
    "text = 'これは日本語の文章です。'\n",
    "\n",
    "# 利用パターン1 対象文書を分かち書きにする\n",
    "from janome.tokenizer import Tokenizer\n",
    "t1 = Tokenizer(wakati=True)\n",
    "\n",
    "print(t1.tokenize(text))\n",
    "print()\n",
    "\n",
    "# 利用パターン2 単語毎に分析結果を全部表示する\n",
    "t2 = Tokenizer()\n",
    "\n",
    "for token in t2.tokenize(text):\n",
    "    print(token)"
   ]
  },
  {
   "cell_type": "code",
   "execution_count": null,
   "metadata": {},
   "outputs": [],
   "source": []
  }
 ],
 "metadata": {
  "kernelspec": {
   "display_name": "Python 3",
   "language": "python",
   "name": "python3"
  },
  "language_info": {
   "codemirror_mode": {
    "name": "ipython",
    "version": 3
   },
   "file_extension": ".py",
   "mimetype": "text/x-python",
   "name": "python",
   "nbconvert_exporter": "python",
   "pygments_lexer": "ipython3",
   "version": "3.7.3"
  }
 },
 "nbformat": 4,
 "nbformat_minor": 2
}
