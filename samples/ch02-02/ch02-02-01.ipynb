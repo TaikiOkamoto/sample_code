{
 "cells": [
  {
   "cell_type": "markdown",
   "metadata": {},
   "source": [
    "## 2.2.3 Mecabの利用"
   ]
  },
  {
   "cell_type": "code",
   "execution_count": null,
   "metadata": {},
   "outputs": [],
   "source": [
    "# リスト 2.2.1 mecab-python3のテスト\n",
    "\n",
    "# MecabをPythonから呼び出す\n",
    "import MeCab\n",
    "\n",
    "# 解析対象文\n",
    "text = 'これは日本語の文章です。'\n",
    "\n",
    "# 利用パターン1 対象文書を分かち書きにする\n",
    "tagger1 = MeCab.Tagger(\"-Owakati\")\n",
    "print('【利用パターン1】分かち書き')\n",
    "print(tagger1.parse(text).split())\n",
    "print()\n",
    "\n",
    "\n",
    "# 利用パターン2 単語毎に分析結果を全部表示する\n",
    "tagger2 = MeCab.Tagger()\n",
    "print('【利用パターン2】品詞解析')\n",
    "print(tagger2.parse(text))"
   ]
  },
  {
   "cell_type": "code",
   "execution_count": null,
   "metadata": {},
   "outputs": [],
   "source": []
  }
 ],
 "metadata": {
  "kernelspec": {
   "display_name": "Python 3",
   "language": "python",
   "name": "python3"
  },
  "language_info": {
   "codemirror_mode": {
    "name": "ipython",
    "version": 3
   },
   "file_extension": ".py",
   "mimetype": "text/x-python",
   "name": "python",
   "nbconvert_exporter": "python",
   "pygments_lexer": "ipython3",
   "version": "3.7.3"
  }
 },
 "nbformat": 4,
 "nbformat_minor": 2
}
